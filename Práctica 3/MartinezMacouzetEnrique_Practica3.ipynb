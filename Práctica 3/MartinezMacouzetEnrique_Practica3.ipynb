{
 "cells": [
  {
   "cell_type": "markdown",
   "id": "a2374ec3",
   "metadata": {},
   "source": [
    "# Práctica 3"
   ]
  },
  {
   "cell_type": "markdown",
   "id": "e915a8ef",
   "metadata": {},
   "source": [
    "## Importación de Librerías"
   ]
  },
  {
   "cell_type": "code",
   "execution_count": 1,
   "id": "d6513ecb",
   "metadata": {
    "ExecuteTime": {
     "end_time": "2024-07-18T23:57:05.093223Z",
     "start_time": "2024-07-18T23:57:04.107771Z"
    }
   },
   "outputs": [],
   "source": [
    "# Librerías principales\n",
    "import pandas as pd\n",
    "import numpy as np\n",
    "import matplotlib.pyplot as plt\n",
    "import seaborn as sns\n",
    "\n",
    "# Modelado y evaluación\n",
    "from sklearn.ensemble import RandomForestClassifier\n",
    "from sklearn.model_selection import train_test_split, GridSearchCV\n",
    "from sklearn.metrics import roc_auc_score\n",
    "\n",
    "# Configuración de visualización\n",
    "pd.set_option(\"display.max_columns\", 30)\n",
    "plt.style.use('ggplot')\n",
    "sns.set_palette(\"magma\")"
   ]
  },
  {
   "cell_type": "markdown",
   "id": "8ed19314",
   "metadata": {},
   "source": [
    "## Carga y Exploración de Datos"
   ]
  },
  {
   "cell_type": "code",
   "execution_count": 2,
   "id": "0c5e19f5",
   "metadata": {},
   "outputs": [
    {
     "name": "stdout",
     "output_type": "stream",
     "text": [
      "Forma inicial del dataset: (1310, 14)\n",
      "\n",
      "Distribución de supervivencia:\n",
      "survived\n",
      "0.0    0.618029\n",
      "1.0    0.381971\n",
      "Name: proportion, dtype: float64\n",
      "\n",
      "Valores faltantes:\n",
      "body         0.907634\n",
      "cabin        0.774809\n",
      "boat         0.629008\n",
      "home.dest    0.431298\n",
      "age          0.201527\n",
      "embarked     0.002290\n",
      "fare         0.001527\n",
      "pclass       0.000763\n",
      "survived     0.000763\n",
      "name         0.000763\n",
      "dtype: float64\n"
     ]
    }
   ],
   "source": [
    "# Lectura de Datos\n",
    "df = pd.read_csv(\"datasets/titanic.csv\")\n",
    "\n",
    "print(\"Forma inicial del dataset:\", df.shape)\n",
    "print(\"\\nDistribución de supervivencia:\")\n",
    "print(df['survived'].value_counts(normalize=True))\n",
    "\n",
    "print(\"\\nValores faltantes:\")\n",
    "print(df.isnull().mean().sort_values(ascending=False).head(10))"
   ]
  },
  {
   "cell_type": "markdown",
   "id": "a4759a2f",
   "metadata": {},
   "source": [
    "## Limpieza de Datos"
   ]
  },
  {
   "cell_type": "code",
   "execution_count": 3,
   "id": "515a2908",
   "metadata": {},
   "outputs": [
    {
     "name": "stdout",
     "output_type": "stream",
     "text": [
      "\n",
      "Forma después de la limpieza: (1308, 14)\n"
     ]
    }
   ],
   "source": [
    "# Eliminamos filas con valores faltantes en variables críticas\n",
    "df = df[(~df[\"survived\"].isnull()) & \n",
    "        (~df[\"pclass\"].isnull()) & \n",
    "        (~df[\"fare\"].isnull())].copy()\n",
    "\n",
    "print(\"\\nForma después de la limpieza:\", df.shape)\n"
   ]
  },
  {
   "cell_type": "markdown",
   "id": "54e6cb61",
   "metadata": {},
   "source": [
    "## Ingeniería de Características"
   ]
  },
  {
   "cell_type": "code",
   "execution_count": 4,
   "id": "ff370024",
   "metadata": {},
   "outputs": [],
   "source": [
    "def enhanced_feature_engineering(df):\n",
    "\n",
    "    # Características familiares\n",
    "    # Tamaño del grupo familiar (hermanos/esposos + padres/hijos + el pasajero)\n",
    "    df['family_size'] = df['sibsp'] + df['parch'] + 1\n",
    "    # Indicador de si viaja solo (1) o con familia (0)\n",
    "    df['is_alone'] = (df['family_size'] == 1).astype(int)\n",
    "    \n",
    "    # Extracción de títulos desde el nombre\n",
    "    df['title'] = df['name'].str.extract(r' ([A-Za-z]+)\\.', expand=False)\n",
    "    # Consolidación de títulos raros en una sola categoría\n",
    "    df['title'] = df['title'].replace(['Lady', 'Countess','Capt', 'Col','Don', 'Dr',\n",
    "                                     'Major', 'Rev', 'Sir', 'Jonkheer', 'Dona'], 'Rare')\n",
    "    # Unificación de títulos equivalentes\n",
    "    df['title'] = df['title'].replace(['Mlle', 'Ms'], 'Miss').replace('Mme', 'Mrs')\n",
    "    \n",
    "    # Conversión de variables categóricas a numéricas\n",
    "    df['sex'] = df['sex'].map({'female': 0, 'male': 1}).astype(int)\n",
    "    # Mapeo de puertos de embarque (S=0, C=1, Q=2) con imputación de valores faltantes\n",
    "    df['embarked'] = df['embarked'].fillna('S').map({'S': 0, 'C': 1, 'Q': 2}).astype(int)\n",
    "    \n",
    "    # Procesamiento de edad:\n",
    "    # Imputación de valores faltantes con la mediana por título y clase\n",
    "    df['age'] = df.groupby(['title', 'pclass'])['age'].transform(lambda x: x.fillna(x.median()))\n",
    "    # Discretización de edad en rangos (0-12, 13-20, 21-40, 41-60, 61-100)\n",
    "    df['age_bin'] = pd.cut(df['age'], bins=[0, 12, 20, 40, 60, 100], labels=False)\n",
    "    \n",
    "    # Características mejoradas de tarifa:\n",
    "    # Tarifa por persona (considerando el tamaño familiar)\n",
    "    df['fare_per_person'] = df['fare'] / (df['family_size'] + 0.001)  # +0.001 para evitar división por 0\n",
    "    # Discretización de tarifa en quintiles\n",
    "    df['fare_bin'] = pd.qcut(df['fare'], 5, labels=False, duplicates='drop')\n",
    "    \n",
    "    # Características de cabina:\n",
    "    # Indicador de si tiene cabina asignada (1) o no (0)\n",
    "    df['has_cabin'] = df['cabin'].notnull().astype(int)\n",
    "    \n",
    "    # Características de interacción:\n",
    "    # Interacción entre edad y clase\n",
    "    df['age_class'] = df['age'] * df['pclass']\n",
    "    # Interacción entre tarifa y clase\n",
    "    df['fare_class'] = df['fare'] * df['pclass']\n",
    "    \n",
    "    # Eliminación de columnas no relevantes para el modelo\n",
    "    return df.drop(['name', 'ticket', 'cabin', 'boat', 'body', 'home.dest'], \n",
    "                  axis=1, errors='ignore')\n",
    "\n",
    "df = enhanced_feature_engineering(df)"
   ]
  },
  {
   "cell_type": "markdown",
   "id": "8e678ea8",
   "metadata": {},
   "source": [
    "## Preparación de Datos para Modelado"
   ]
  },
  {
   "cell_type": "code",
   "execution_count": 5,
   "id": "fe4d11f4",
   "metadata": {},
   "outputs": [
    {
     "name": "stdout",
     "output_type": "stream",
     "text": [
      "\n",
      "Forma final de la matriz de características: (915, 15)\n",
      "Características utilizadas: ['pclass', 'sex', 'age', 'sibsp', 'parch', 'fare', 'embarked', 'family_size', 'is_alone', 'age_bin', 'fare_per_person', 'fare_bin', 'has_cabin', 'age_class', 'fare_class']\n"
     ]
    }
   ],
   "source": [
    "# Definimos características y variable objetivo\n",
    "\n",
    "numerical_features = [col for col in df.columns \n",
    "                     if col not in ['survived'] and df[col].dtype in ['int64', 'float64']]\n",
    "X = df[numerical_features]\n",
    "y = df['survived'].astype(int)\n",
    "\n",
    "# División en conjuntos de entrenamiento y validación\n",
    "Xt, Xv, yt, yv = train_test_split(\n",
    "    X, y, \n",
    "    test_size=0.3, \n",
    "    random_state=42, \n",
    "    stratify=y\n",
    ")\n",
    "\n",
    "print(f\"\\nForma final de la matriz de características: {Xt.shape}\")\n",
    "print(\"Características utilizadas:\", numerical_features)\n"
   ]
  },
  {
   "cell_type": "markdown",
   "id": "fae62b22",
   "metadata": {},
   "source": [
    "## Configuración y Entrenamiento de Random Forest"
   ]
  },
  {
   "cell_type": "code",
   "execution_count": 6,
   "id": "7465f89a",
   "metadata": {},
   "outputs": [
    {
     "name": "stdout",
     "output_type": "stream",
     "text": [
      "\n",
      "Entrenando Random Forest con GridSearchCV...\n",
      "Fitting 5 folds for each of 486 candidates, totalling 2430 fits\n",
      "\n",
      "Entrenamiento completo!\n"
     ]
    }
   ],
   "source": [
    "'''\n",
    "**Estrategia de entrenamiento:**\n",
    "1. Usamos GridSearchCV para optimizar hiperparámetros (evitando overfitting).\n",
    "2. La métrica de evaluación es AUC-ROC (ideal para problemas con clases desbalanceadas).\n",
    "3. Validación cruzada (5 folds) para asegurar generalización.\n",
    "'''\n",
    "\n",
    "# Definimos el espacio de búsqueda de hiperparámetros\n",
    "param_grid = {\n",
    "    'n_estimators': [300, 400, 500],  # Número de árboles (usamos valores altos para robustez)\n",
    "    'max_depth': [5, 6, 7],           # Controla complejidad (evita overfitting)\n",
    "    'min_samples_split': [5, 10, 15], # Mínimo de muestras para dividir un nodo\n",
    "    'min_samples_leaf': [2, 3, 4],    # Mínimo de muestras en nodos hoja\n",
    "    'max_features': [0.6, 0.8, 'sqrt'], # Características consideradas por árbol\n",
    "    'bootstrap': [True],              # Muestreo con reemplazo (bagging)\n",
    "    'class_weight': ['balanced', None] # Manejo del desbalanceo de clases\n",
    "}\n",
    "\n",
    "# Inicializamos el modelo base de Random Forest\n",
    "rf_model = RandomForestClassifier(\n",
    "    random_state=42,  # Semilla para reproducibilidad\n",
    "    n_jobs=-1         # Paralelización\n",
    ")\n",
    "\n",
    "# Configuramos la búsqueda en grid con validación cruzada\n",
    "grid_search = GridSearchCV(\n",
    "    estimator=rf_model,\n",
    "    param_grid=param_grid,\n",
    "    cv=5,               # 5-fold cross-validation\n",
    "    scoring='roc_auc',   # Métrica a optimizar\n",
    "    n_jobs=-1,          # Paralelización\n",
    "    verbose=1           # Mostrar progreso\n",
    ")\n",
    "\n",
    "# Entrenamos el modelo\n",
    "print(\"\\nEntrenando Random Forest con GridSearchCV...\")\n",
    "grid_search.fit(Xt, yt)\n",
    "\n",
    "# Obtenemos el mejor modelo después de la búsqueda\n",
    "best_rf = grid_search.best_estimator_\n",
    "print(\"\\nEntrenamiento completo!\")"
   ]
  },
  {
   "cell_type": "markdown",
   "id": "03a74cf4",
   "metadata": {},
   "source": [
    "## Evaluación del Modelo"
   ]
  },
  {
   "cell_type": "code",
   "execution_count": 7,
   "id": "c6ec7246",
   "metadata": {},
   "outputs": [
    {
     "name": "stdout",
     "output_type": "stream",
     "text": [
      "\n",
      "=== RENDIMIENTO DEL MODELO ===\n",
      "Mejores parámetros: {'bootstrap': True, 'class_weight': 'balanced', 'max_depth': 6, 'max_features': 'sqrt', 'min_samples_leaf': 3, 'min_samples_split': 10, 'n_estimators': 400}\n",
      "AUC en train: 0.9103\n",
      "AUC en validate: 0.8951\n",
      "\n",
      "Top 10 características más importantes:\n",
      "            Feature  Importance\n",
      "1               sex    0.327534\n",
      "13        age_class    0.116911\n",
      "10  fare_per_person    0.084272\n",
      "14       fare_class    0.082666\n",
      "5              fare    0.079738\n",
      "2               age    0.063610\n",
      "7       family_size    0.043487\n",
      "0            pclass    0.038170\n",
      "12        has_cabin    0.035169\n",
      "3             sibsp    0.029714\n"
     ]
    },
    {
     "data": {
      "image/png": "[encoded data removed]",
      "text/plain": [
       "<Figure size 1000x600 with 1 Axes>"
      ]
     },
     "metadata": {},
     "output_type": "display_data"
    }
   ],
   "source": [
    "# Calculamos probabilidades para evaluación\n",
    "train_probs = best_rf.predict_proba(Xt)[:,1]\n",
    "val_probs = best_rf.predict_proba(Xv)[:,1]\n",
    "\n",
    "# Mostramos resultados\n",
    "print(\"\\n=== RENDIMIENTO DEL MODELO ===\")\n",
    "print(f\"Mejores parámetros: {grid_search.best_params_}\")\n",
    "print(f\"AUC en train: {roc_auc_score(yt, train_probs):.4f}\")\n",
    "print(f\"AUC en validate: {roc_auc_score(yv, val_probs):.4f}\")\n",
    "\n",
    "# =============================================\n",
    "# ANÁLISIS DE IMPORTANCIA DE CARACTERÍSTICAS\n",
    "# =============================================\n",
    "# Creamos dataframe con las importancias\n",
    "importance = pd.DataFrame({\n",
    "    'Feature': Xt.columns,\n",
    "    'Importance': best_rf.feature_importances_\n",
    "}).sort_values('Importance', ascending=False)\n",
    "\n",
    "print(\"\\nTop 10 características más importantes:\")\n",
    "print(importance.head(10))\n",
    "\n",
    "# Visualizamos las características más importantes\n",
    "plt.figure(figsize=(10,6))\n",
    "sns.barplot(x='Importance', y='Feature', data=importance.head(10))\n",
    "plt.title('Top 10 características más importantes')\n",
    "plt.tight_layout()\n",
    "plt.show()"
   ]
  },
  {
   "cell_type": "markdown",
   "id": "278de889",
   "metadata": {},
   "source": [
    "## Conclusiones "
   ]
  },
  {
   "cell_type": "code",
   "execution_count": 8,
   "id": "113c12b3",
   "metadata": {},
   "outputs": [],
   "source": [
    "# Para este modelo se mejoró la limpieza de datos imputando valores en lugar de eliminar filas. \n",
    "# También se hizo una mejor ingeniería que incorpora interacciones como age_class y fare_per_person.\n",
    "# La optimización con GridSearchCV asegura hiperparámetros que evitan overfitting.\n",
    "# El análisis de importancia nos dice que las nuevas variables son predictivas (como sex que aporta el 32.7%)."
   ]
  }
 ],
 "metadata": {
  "hide_input": false,
  "kernelspec": {
   "display_name": "Python 3 (ipykernel)",
   "language": "python",
   "name": "python3"
  },
  "language_info": {
   "codemirror_mode": {
    "name": "ipython",
    "version": 3
   },
   "file_extension": ".py",
   "mimetype": "text/x-python",
   "name": "python",
   "nbconvert_exporter": "python",
   "pygments_lexer": "ipython3",
   "version": "3.12.3"
  },
  "varInspector": {
   "cols": {
    "lenName": 16,
    "lenType": 16,
    "lenVar": 40
   },
   "kernels_config": {
    "python": {
     "delete_cmd_postfix": "",
     "delete_cmd_prefix": "del ",
     "library": "var_list.py",
     "varRefreshCmd": "print(var_dic_list())"
    },
    "r": {
     "delete_cmd_postfix": ") ",
     "delete_cmd_prefix": "rm(",
     "library": "var_list.r",
     "varRefreshCmd": "cat(var_dic_list()) "
    }
   },
   "types_to_exclude": [
    "module",
    "function",
    "builtin_function_or_method",
    "instance",
    "_Feature"
   ],
   "window_display": false
  }
 },
 "nbformat": 4,
 "nbformat_minor": 5
}
