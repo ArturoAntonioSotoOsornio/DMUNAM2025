{
  "nbformat": 4,
  "nbformat_minor": 0,
  "metadata": {
    "colab": {
      "provenance": [],
      "gpuType": "T4"
    },
    "kernelspec": {
      "name": "python3",
      "display_name": "Python 3"
    },
    "language_info": {
      "name": "python"
    },
    "accelerator": "GPU"
  },
  "cells": [
    {
      "cell_type": "code",
      "source": [
        "from google.colab import files\n",
        "files.upload()"
      ],
      "metadata": {
        "colab": {
          "base_uri": "https://localhost:8080/",
          "height": 354
        },
        "id": "kWrx44pvF-xz",
        "outputId": "6f6c02ae-124c-429c-b480-2c25340426fd"
      },
      "execution_count": null,
      "outputs": [
        {
          "output_type": "display_data",
          "data": {
            "text/plain": [
              "<IPython.core.display.HTML object>"
            ],
            "text/html": [
              "\n",
              "     <input type=\"file\" id=\"files-67558e05-e6c3-413b-8a99-d6c7afd78ce7\" name=\"files[]\" multiple disabled\n",
              "        style=\"border:none\" />\n",
              "     <output id=\"result-67558e05-e6c3-413b-8a99-d6c7afd78ce7\">\n",
              "      Upload widget is only available when the cell has been executed in the\n",
              "      current browser session. Please rerun this cell to enable.\n",
              "      </output>\n",
              "      <script>// Copyright 2017 Google LLC\n",
              "//\n",
              "// Licensed under the Apache License, Version 2.0 (the \"License\");\n",
              "// you may not use this file except in compliance with the License.\n",
              "// You may obtain a copy of the License at\n",
              "//\n",
              "//      http://www.apache.org/licenses/LICENSE-2.0\n",
              "//\n",
              "// Unless required by applicable law or agreed to in writing, software\n",
              "// distributed under the License is distributed on an \"AS IS\" BASIS,\n",
              "// WITHOUT WARRANTIES OR CONDITIONS OF ANY KIND, either express or implied.\n",
              "// See the License for the specific language governing permissions and\n",
              "// limitations under the License.\n",
              "\n",
              "/**\n",
              " * @fileoverview Helpers for google.colab Python module.\n",
              " */\n",
              "(function(scope) {\n",
              "function span(text, styleAttributes = {}) {\n",
              "  const element = document.createElement('span');\n",
              "  element.textContent = text;\n",
              "  for (const key of Object.keys(styleAttributes)) {\n",
              "    element.style[key] = styleAttributes[key];\n",
              "  }\n",
              "  return element;\n",
              "}\n",
              "\n",
              "// Max number of bytes which will be uploaded at a time.\n",
              "const MAX_PAYLOAD_SIZE = 100 * 1024;\n",
              "\n",
              "function _uploadFiles(inputId, outputId) {\n",
              "  const steps = uploadFilesStep(inputId, outputId);\n",
              "  const outputElement = document.getElementById(outputId);\n",
              "  // Cache steps on the outputElement to make it available for the next call\n",
              "  // to uploadFilesContinue from Python.\n",
              "  outputElement.steps = steps;\n",
              "\n",
              "  return _uploadFilesContinue(outputId);\n",
              "}\n",
              "\n",
              "// This is roughly an async generator (not supported in the browser yet),\n",
              "// where there are multiple asynchronous steps and the Python side is going\n",
              "// to poll for completion of each step.\n",
              "// This uses a Promise to block the python side on completion of each step,\n",
              "// then passes the result of the previous step as the input to the next step.\n",
              "function _uploadFilesContinue(outputId) {\n",
              "  const outputElement = document.getElementById(outputId);\n",
              "  const steps = outputElement.steps;\n",
              "\n",
              "  const next = steps.next(outputElement.lastPromiseValue);\n",
              "  return Promise.resolve(next.value.promise).then((value) => {\n",
              "    // Cache the last promise value to make it available to the next\n",
              "    // step of the generator.\n",
              "    outputElement.lastPromiseValue = value;\n",
              "    return next.value.response;\n",
              "  });\n",
              "}\n",
              "\n",
              "/**\n",
              " * Generator function which is called between each async step of the upload\n",
              " * process.\n",
              " * @param {string} inputId Element ID of the input file picker element.\n",
              " * @param {string} outputId Element ID of the output display.\n",
              " * @return {!Iterable<!Object>} Iterable of next steps.\n",
              " */\n",
              "function* uploadFilesStep(inputId, outputId) {\n",
              "  const inputElement = document.getElementById(inputId);\n",
              "  inputElement.disabled = false;\n",
              "\n",
              "  const outputElement = document.getElementById(outputId);\n",
              "  outputElement.innerHTML = '';\n",
              "\n",
              "  const pickedPromise = new Promise((resolve) => {\n",
              "    inputElement.addEventListener('change', (e) => {\n",
              "      resolve(e.target.files);\n",
              "    });\n",
              "  });\n",
              "\n",
              "  const cancel = document.createElement('button');\n",
              "  inputElement.parentElement.appendChild(cancel);\n",
              "  cancel.textContent = 'Cancel upload';\n",
              "  const cancelPromise = new Promise((resolve) => {\n",
              "    cancel.onclick = () => {\n",
              "      resolve(null);\n",
              "    };\n",
              "  });\n",
              "\n",
              "  // Wait for the user to pick the files.\n",
              "  const files = yield {\n",
              "    promise: Promise.race([pickedPromise, cancelPromise]),\n",
              "    response: {\n",
              "      action: 'starting',\n",
              "    }\n",
              "  };\n",
              "\n",
              "  cancel.remove();\n",
              "\n",
              "  // Disable the input element since further picks are not allowed.\n",
              "  inputElement.disabled = true;\n",
              "\n",
              "  if (!files) {\n",
              "    return {\n",
              "      response: {\n",
              "        action: 'complete',\n",
              "      }\n",
              "    };\n",
              "  }\n",
              "\n",
              "  for (const file of files) {\n",
              "    const li = document.createElement('li');\n",
              "    li.append(span(file.name, {fontWeight: 'bold'}));\n",
              "    li.append(span(\n",
              "        `(${file.type || 'n/a'}) - ${file.size} bytes, ` +\n",
              "        `last modified: ${\n",
              "            file.lastModifiedDate ? file.lastModifiedDate.toLocaleDateString() :\n",
              "                                    'n/a'} - `));\n",
              "    const percent = span('0% done');\n",
              "    li.appendChild(percent);\n",
              "\n",
              "    outputElement.appendChild(li);\n",
              "\n",
              "    const fileDataPromise = new Promise((resolve) => {\n",
              "      const reader = new FileReader();\n",
              "      reader.onload = (e) => {\n",
              "        resolve(e.target.result);\n",
              "      };\n",
              "      reader.readAsArrayBuffer(file);\n",
              "    });\n",
              "    // Wait for the data to be ready.\n",
              "    let fileData = yield {\n",
              "      promise: fileDataPromise,\n",
              "      response: {\n",
              "        action: 'continue',\n",
              "      }\n",
              "    };\n",
              "\n",
              "    // Use a chunked sending to avoid message size limits. See b/62115660.\n",
              "    let position = 0;\n",
              "    do {\n",
              "      const length = Math.min(fileData.byteLength - position, MAX_PAYLOAD_SIZE);\n",
              "      const chunk = new Uint8Array(fileData, position, length);\n",
              "      position += length;\n",
              "\n",
              "      const base64 = btoa(String.fromCharCode.apply(null, chunk));\n",
              "      yield {\n",
              "        response: {\n",
              "          action: 'append',\n",
              "          file: file.name,\n",
              "          data: base64,\n",
              "        },\n",
              "      };\n",
              "\n",
              "      let percentDone = fileData.byteLength === 0 ?\n",
              "          100 :\n",
              "          Math.round((position / fileData.byteLength) * 100);\n",
              "      percent.textContent = `${percentDone}% done`;\n",
              "\n",
              "    } while (position < fileData.byteLength);\n",
              "  }\n",
              "\n",
              "  // All done.\n",
              "  yield {\n",
              "    response: {\n",
              "      action: 'complete',\n",
              "    }\n",
              "  };\n",
              "}\n",
              "\n",
              "scope.google = scope.google || {};\n",
              "scope.google.colab = scope.google.colab || {};\n",
              "scope.google.colab._files = {\n",
              "  _uploadFiles,\n",
              "  _uploadFilesContinue,\n",
              "};\n",
              "})(self);\n",
              "</script> "
            ]
          },
          "metadata": {}
        },
        {
          "output_type": "error",
          "ename": "KeyboardInterrupt",
          "evalue": "",
          "traceback": [
            "\u001b[0;31m---------------------------------------------------------------------------\u001b[0m",
            "\u001b[0;31mKeyboardInterrupt\u001b[0m                         Traceback (most recent call last)",
            "\u001b[0;32m<ipython-input-13-5c2e8a8d365b>\u001b[0m in \u001b[0;36m<cell line: 0>\u001b[0;34m()\u001b[0m\n\u001b[1;32m      1\u001b[0m \u001b[0;32mfrom\u001b[0m \u001b[0mgoogle\u001b[0m\u001b[0;34m.\u001b[0m\u001b[0mcolab\u001b[0m \u001b[0;32mimport\u001b[0m \u001b[0mfiles\u001b[0m\u001b[0;34m\u001b[0m\u001b[0;34m\u001b[0m\u001b[0m\n\u001b[0;32m----> 2\u001b[0;31m \u001b[0mfiles\u001b[0m\u001b[0;34m.\u001b[0m\u001b[0mupload\u001b[0m\u001b[0;34m(\u001b[0m\u001b[0;34m)\u001b[0m\u001b[0;34m\u001b[0m\u001b[0;34m\u001b[0m\u001b[0m\n\u001b[0m",
            "\u001b[0;32m/usr/local/lib/python3.11/dist-packages/google/colab/files.py\u001b[0m in \u001b[0;36mupload\u001b[0;34m(target_dir)\u001b[0m\n\u001b[1;32m     70\u001b[0m   \"\"\"\n\u001b[1;32m     71\u001b[0m \u001b[0;34m\u001b[0m\u001b[0m\n\u001b[0;32m---> 72\u001b[0;31m   \u001b[0muploaded_files\u001b[0m \u001b[0;34m=\u001b[0m \u001b[0m_upload_files\u001b[0m\u001b[0;34m(\u001b[0m\u001b[0mmultiple\u001b[0m\u001b[0;34m=\u001b[0m\u001b[0;32mTrue\u001b[0m\u001b[0;34m)\u001b[0m\u001b[0;34m\u001b[0m\u001b[0;34m\u001b[0m\u001b[0m\n\u001b[0m\u001b[1;32m     73\u001b[0m   \u001b[0;31m# Mapping from original filename to filename as saved locally.\u001b[0m\u001b[0;34m\u001b[0m\u001b[0;34m\u001b[0m\u001b[0m\n\u001b[1;32m     74\u001b[0m   \u001b[0mlocal_filenames\u001b[0m \u001b[0;34m=\u001b[0m \u001b[0mdict\u001b[0m\u001b[0;34m(\u001b[0m\u001b[0;34m)\u001b[0m\u001b[0;34m\u001b[0m\u001b[0;34m\u001b[0m\u001b[0m\n",
            "\u001b[0;32m/usr/local/lib/python3.11/dist-packages/google/colab/files.py\u001b[0m in \u001b[0;36m_upload_files\u001b[0;34m(multiple)\u001b[0m\n\u001b[1;32m    162\u001b[0m \u001b[0;34m\u001b[0m\u001b[0m\n\u001b[1;32m    163\u001b[0m   \u001b[0;31m# First result is always an indication that the file picker has completed.\u001b[0m\u001b[0;34m\u001b[0m\u001b[0;34m\u001b[0m\u001b[0m\n\u001b[0;32m--> 164\u001b[0;31m   result = _output.eval_js(\n\u001b[0m\u001b[1;32m    165\u001b[0m       'google.colab._files._uploadFiles(\"{input_id}\", \"{output_id}\")'.format(\n\u001b[1;32m    166\u001b[0m           \u001b[0minput_id\u001b[0m\u001b[0;34m=\u001b[0m\u001b[0minput_id\u001b[0m\u001b[0;34m,\u001b[0m \u001b[0moutput_id\u001b[0m\u001b[0;34m=\u001b[0m\u001b[0moutput_id\u001b[0m\u001b[0;34m\u001b[0m\u001b[0;34m\u001b[0m\u001b[0m\n",
            "\u001b[0;32m/usr/local/lib/python3.11/dist-packages/google/colab/output/_js.py\u001b[0m in \u001b[0;36meval_js\u001b[0;34m(script, ignore_result, timeout_sec)\u001b[0m\n\u001b[1;32m     38\u001b[0m   \u001b[0;32mif\u001b[0m \u001b[0mignore_result\u001b[0m\u001b[0;34m:\u001b[0m\u001b[0;34m\u001b[0m\u001b[0;34m\u001b[0m\u001b[0m\n\u001b[1;32m     39\u001b[0m     \u001b[0;32mreturn\u001b[0m\u001b[0;34m\u001b[0m\u001b[0;34m\u001b[0m\u001b[0m\n\u001b[0;32m---> 40\u001b[0;31m   \u001b[0;32mreturn\u001b[0m \u001b[0m_message\u001b[0m\u001b[0;34m.\u001b[0m\u001b[0mread_reply_from_input\u001b[0m\u001b[0;34m(\u001b[0m\u001b[0mrequest_id\u001b[0m\u001b[0;34m,\u001b[0m \u001b[0mtimeout_sec\u001b[0m\u001b[0;34m)\u001b[0m\u001b[0;34m\u001b[0m\u001b[0;34m\u001b[0m\u001b[0m\n\u001b[0m\u001b[1;32m     41\u001b[0m \u001b[0;34m\u001b[0m\u001b[0m\n\u001b[1;32m     42\u001b[0m \u001b[0;34m\u001b[0m\u001b[0m\n",
            "\u001b[0;32m/usr/local/lib/python3.11/dist-packages/google/colab/_message.py\u001b[0m in \u001b[0;36mread_reply_from_input\u001b[0;34m(message_id, timeout_sec)\u001b[0m\n\u001b[1;32m     94\u001b[0m     \u001b[0mreply\u001b[0m \u001b[0;34m=\u001b[0m \u001b[0m_read_next_input_message\u001b[0m\u001b[0;34m(\u001b[0m\u001b[0;34m)\u001b[0m\u001b[0;34m\u001b[0m\u001b[0;34m\u001b[0m\u001b[0m\n\u001b[1;32m     95\u001b[0m     \u001b[0;32mif\u001b[0m \u001b[0mreply\u001b[0m \u001b[0;34m==\u001b[0m \u001b[0m_NOT_READY\u001b[0m \u001b[0;32mor\u001b[0m \u001b[0;32mnot\u001b[0m \u001b[0misinstance\u001b[0m\u001b[0;34m(\u001b[0m\u001b[0mreply\u001b[0m\u001b[0;34m,\u001b[0m \u001b[0mdict\u001b[0m\u001b[0;34m)\u001b[0m\u001b[0;34m:\u001b[0m\u001b[0;34m\u001b[0m\u001b[0;34m\u001b[0m\u001b[0m\n\u001b[0;32m---> 96\u001b[0;31m       \u001b[0mtime\u001b[0m\u001b[0;34m.\u001b[0m\u001b[0msleep\u001b[0m\u001b[0;34m(\u001b[0m\u001b[0;36m0.025\u001b[0m\u001b[0;34m)\u001b[0m\u001b[0;34m\u001b[0m\u001b[0;34m\u001b[0m\u001b[0m\n\u001b[0m\u001b[1;32m     97\u001b[0m       \u001b[0;32mcontinue\u001b[0m\u001b[0;34m\u001b[0m\u001b[0;34m\u001b[0m\u001b[0m\n\u001b[1;32m     98\u001b[0m     if (\n",
            "\u001b[0;31mKeyboardInterrupt\u001b[0m: "
          ]
        }
      ]
    },
    {
      "cell_type": "code",
      "execution_count": null,
      "metadata": {
        "colab": {
          "base_uri": "https://localhost:8080/"
        },
        "id": "gu8L3gedF85b",
        "outputId": "5b42db1a-6150-4660-dd0e-95c7fb9d0e0a"
      },
      "outputs": [
        {
          "output_type": "stream",
          "name": "stdout",
          "text": [
            "Datos originales:\n",
            "<class 'pandas.core.frame.DataFrame'>\n",
            "RangeIndex: 1310 entries, 0 to 1309\n",
            "Data columns (total 14 columns):\n",
            " #   Column     Non-Null Count  Dtype  \n",
            "---  ------     --------------  -----  \n",
            " 0   pclass     1309 non-null   float64\n",
            " 1   survived   1309 non-null   float64\n",
            " 2   name       1309 non-null   object \n",
            " 3   sex        1309 non-null   object \n",
            " 4   age        1046 non-null   float64\n",
            " 5   sibsp      1309 non-null   float64\n",
            " 6   parch      1309 non-null   float64\n",
            " 7   ticket     1309 non-null   object \n",
            " 8   fare       1308 non-null   float64\n",
            " 9   cabin      295 non-null    object \n",
            " 10  embarked   1307 non-null   object \n",
            " 11  boat       486 non-null    object \n",
            " 12  body       121 non-null    float64\n",
            " 13  home.dest  745 non-null    object \n",
            "dtypes: float64(7), object(7)\n",
            "memory usage: 143.4+ KB\n",
            "None\n",
            "\n",
            "Datos después de la limpieza:\n",
            "<class 'pandas.core.frame.DataFrame'>\n",
            "RangeIndex: 1310 entries, 0 to 1309\n",
            "Data columns (total 11 columns):\n",
            " #   Column     Non-Null Count  Dtype  \n",
            "---  ------     --------------  -----  \n",
            " 0   pclass     1310 non-null   float64\n",
            " 1   survived   1310 non-null   float64\n",
            " 2   name       1310 non-null   object \n",
            " 3   sex        1310 non-null   object \n",
            " 4   age        1310 non-null   float64\n",
            " 5   sibsp      1310 non-null   float64\n",
            " 6   parch      1310 non-null   float64\n",
            " 7   ticket     1310 non-null   object \n",
            " 8   fare       1310 non-null   float64\n",
            " 9   embarked   1310 non-null   object \n",
            " 10  home.dest  1310 non-null   object \n",
            "dtypes: float64(6), object(5)\n",
            "memory usage: 112.7+ KB\n",
            "None\n"
          ]
        },
        {
          "output_type": "stream",
          "name": "stderr",
          "text": [
            "<ipython-input-2-624b1923a5e6>:17: FutureWarning: A value is trying to be set on a copy of a DataFrame or Series through chained assignment using an inplace method.\n",
            "The behavior will change in pandas 3.0. This inplace method will never work because the intermediate object on which we are setting values always behaves as a copy.\n",
            "\n",
            "For example, when doing 'df[col].method(value, inplace=True)', try using 'df.method({col: value}, inplace=True)' or df[col] = df[col].method(value) instead, to perform the operation inplace on the original object.\n",
            "\n",
            "\n",
            "  df[col].fillna(df[col].mean(), inplace=True)\n",
            "<ipython-input-2-624b1923a5e6>:15: FutureWarning: A value is trying to be set on a copy of a DataFrame or Series through chained assignment using an inplace method.\n",
            "The behavior will change in pandas 3.0. This inplace method will never work because the intermediate object on which we are setting values always behaves as a copy.\n",
            "\n",
            "For example, when doing 'df[col].method(value, inplace=True)', try using 'df.method({col: value}, inplace=True)' or df[col] = df[col].method(value) instead, to perform the operation inplace on the original object.\n",
            "\n",
            "\n",
            "  df[col].fillna(df[col].mode()[0], inplace=True)\n"
          ]
        }
      ],
      "source": [
        "import pandas as pd\n",
        "df = pd.read_csv(\"titanic.csv\")\n",
        "\n",
        "# Mostrar información inicial del DataFrame\n",
        "print(\"Datos originales:\")\n",
        "print(df.info())\n",
        "\n",
        "# Eliminar columnas con más del 50% de valores nulos\n",
        "threshold = 0.5 * len(df)\n",
        "df = df.dropna(thresh=threshold, axis=1)\n",
        "\n",
        "# Completar los valores faltantes (usaremos la media para numéricos y la moda para categóricos)\n",
        "for col in df.columns:\n",
        "    if df[col].dtype == \"object\":  # Datos categóricos\n",
        "        df[col].fillna(df[col].mode()[0], inplace=True)\n",
        "    else:  # Datos numéricos\n",
        "        df[col].fillna(df[col].mean(), inplace=True)\n",
        "\n",
        "# Mostrar información después de la limpieza\n",
        "print(\"\\nDatos después de la limpieza:\")\n",
        "print(df.info())\n"
      ]
    },
    {
      "cell_type": "code",
      "source": [
        "from scipy.stats import ks_2samp\n",
        "import numpy as np\n",
        "\n",
        "# Identificar las columnas numéricas con valores faltantes antes de la imputación\n",
        "num_cols = [\"age\", \"fare\"]  # Puedes modificar si hubo más columnas con nulos\n",
        "\n",
        "for col in num_cols:\n",
        "    original_data = df[col].dropna()  # Valores antes de la imputación\n",
        "    imputed_data = df[col]  # Valores después de la imputación\n",
        "\n",
        "    # Prueba de Kolmogorov-Smirnov\n",
        "    ks_stat, p_value = ks_2samp(original_data, imputed_data)\n",
        "\n",
        "    print(f\"Prueba KS para '{col}':\")\n",
        "    print(f\"Estadístico KS: {ks_stat:.4f}, Valor p: {p_value:.4f}\")\n",
        "    if p_value > 0.05:\n",
        "        print(\"✅ No hay diferencias significativas en la distribución.\\n\")\n",
        "    else:\n",
        "        print(\"⚠️ Hay diferencias significativas en la distribución.\\n\")\n"
      ],
      "metadata": {
        "colab": {
          "base_uri": "https://localhost:8080/"
        },
        "id": "ZuDjbJXmHxO5",
        "outputId": "7d2cb86b-7db9-4f25-896a-b89aa58bff3e"
      },
      "execution_count": null,
      "outputs": [
        {
          "output_type": "stream",
          "name": "stdout",
          "text": [
            "Prueba KS para 'age':\n",
            "Estadístico KS: 0.0000, Valor p: 1.0000\n",
            "✅ No hay diferencias significativas en la distribución.\n",
            "\n",
            "Prueba KS para 'fare':\n",
            "Estadístico KS: 0.0000, Valor p: 1.0000\n",
            "✅ No hay diferencias significativas en la distribución.\n",
            "\n"
          ]
        }
      ]
    },
    {
      "cell_type": "code",
      "source": [
        "from sklearn.model_selection import train_test_split, cross_val_score\n",
        "from sklearn.ensemble import RandomForestClassifier\n",
        "from sklearn.metrics import accuracy_score\n",
        "\n",
        "# Seleccionar las características y la variable objetivo\n",
        "X = df.drop(columns=[\"survived\", \"name\", \"ticket\", \"home.dest\"])  # Variables predictoras\n",
        "X = pd.get_dummies(X, drop_first=True)  # Convertir categóricas en numéricas\n",
        "y = df[\"survived\"].astype(int)  # Convertir a entero (0 y 1)\n",
        "\n",
        "\n",
        "# Dividir en entrenamiento (75%) y validación (25%)\n",
        "X_train, X_test, y_train, y_test = train_test_split(X, y, test_size=0.25, random_state=42)\n",
        "\n",
        "# Modelo Random Forest con validación cruzada (5 folds)\n",
        "model = RandomForestClassifier(n_estimators=100, random_state=42)\n",
        "cv_scores = cross_val_score(model, X_train, y_train, cv=5)\n",
        "\n",
        "# Entrenar y evaluar el modelo\n",
        "model.fit(X_train, y_train)\n",
        "y_train_pred = model.predict(X_train)\n",
        "y_test_pred = model.predict(X_test)\n",
        "\n",
        "# Métricas\n",
        "train_acc = accuracy_score(y_train, y_train_pred)\n",
        "test_acc = accuracy_score(y_test, y_test_pred)\n",
        "cv_mean_acc = cv_scores.mean()\n",
        "\n",
        "print(f\"Accuracy en entrenamiento: {train_acc:.4f}\")\n",
        "print(f\"Accuracy en validación: {test_acc:.4f}\")\n",
        "print(f\"Accuracy en validación cruzada: {cv_mean_acc:.4f}\")\n",
        "print(f\"Diferencia entre entrenamiento y validación: {abs(train_acc - test_acc):.4f}\")\n"
      ],
      "metadata": {
        "colab": {
          "base_uri": "https://localhost:8080/"
        },
        "id": "uoHYY4C3I1Io",
        "outputId": "ffd7d344-2cdb-4603-9d89-7b95d910ca8d"
      },
      "execution_count": null,
      "outputs": [
        {
          "output_type": "stream",
          "name": "stdout",
          "text": [
            "Accuracy en entrenamiento: 0.9705\n",
            "Accuracy en validación: 0.8018\n",
            "Accuracy en validación cruzada: 0.7861\n",
            "Diferencia entre entrenamiento y validación: 0.1686\n"
          ]
        }
      ]
    },
    {
      "cell_type": "code",
      "source": [
        "# Ajustar hiperparámetros de Random Forest\n",
        "model = RandomForestClassifier(\n",
        "    n_estimators=100,  # Número de árboles\n",
        "    max_depth=10,  # Limitar profundidad de los árboles\n",
        "    min_samples_split=10,  # Número mínimo de muestras para dividir un nodo\n",
        "    min_samples_leaf=5,  # Número mínimo de muestras en una hoja\n",
        "    max_features=\"sqrt\",  # Número máximo de características por división\n",
        "    random_state=42\n",
        ")\n",
        "\n",
        "cv_scores = cross_val_score(model, X_train, y_train, cv=5)\n",
        "\n",
        "# Entrenar y evaluar el modelo\n",
        "model.fit(X_train, y_train)\n",
        "y_train_pred = model.predict(X_train)\n",
        "y_test_pred = model.predict(X_test)\n",
        "\n",
        "# Métricas\n",
        "train_acc = accuracy_score(y_train, y_train_pred)\n",
        "test_acc = accuracy_score(y_test, y_test_pred)\n",
        "cv_mean_acc = cv_scores.mean()\n",
        "\n",
        "print(f\"Accuracy en entrenamiento: {train_acc:.4f}\")\n",
        "print(f\"Accuracy en validación: {test_acc:.4f}\")\n",
        "print(f\"Accuracy en validación cruzada: {cv_mean_acc:.4f}\")\n",
        "print(f\"Diferencia entre entrenamiento y validación: {abs(train_acc - test_acc):.4f}\")\n"
      ],
      "metadata": {
        "colab": {
          "base_uri": "https://localhost:8080/"
        },
        "id": "M_DGq3lpLhAT",
        "outputId": "01815a39-961c-4ac3-bdef-aa61b398c1ed"
      },
      "execution_count": null,
      "outputs": [
        {
          "output_type": "stream",
          "name": "stdout",
          "text": [
            "Accuracy en entrenamiento: 0.8554\n",
            "Accuracy en validación: 0.7988\n",
            "Accuracy en validación cruzada: 0.8177\n",
            "Diferencia entre entrenamiento y validación: 0.0566\n"
          ]
        }
      ]
    },
    {
      "cell_type": "code",
      "source": [
        "# Instalar XGBoost si no lo tienes\n",
        "!pip install xgboost\n",
        "\n",
        "# Importar XGBoost\n",
        "from xgboost import XGBClassifier\n",
        "\n",
        "# Crear el modelo XGBoost\n",
        "model_xgb = XGBClassifier(\n",
        "    n_estimators=100,  # Número de árboles\n",
        "    max_depth=5,  # Profundidad máxima de los árboles\n",
        "    learning_rate=0.05,  # Tasa de aprendizaje\n",
        "    subsample=0.8,  # Proporción de muestras para cada árbol\n",
        "    colsample_bytree=0.8,  # Proporción de características por árbol\n",
        "    random_state=42\n",
        ")\n",
        "\n",
        "# Validación cruzada\n",
        "cv_scores_xgb = cross_val_score(model_xgb, X_train, y_train, cv=5)\n",
        "\n",
        "# Entrenar el modelo\n",
        "model_xgb.fit(X_train, y_train)\n",
        "\n",
        "# Predicciones\n",
        "y_train_pred_xgb = model_xgb.predict(X_train)\n",
        "y_test_pred_xgb = model_xgb.predict(X_test)\n",
        "\n",
        "# Métricas\n",
        "train_acc_xgb = accuracy_score(y_train, y_train_pred_xgb)\n",
        "test_acc_xgb = accuracy_score(y_test, y_test_pred_xgb)\n",
        "cv_mean_acc_xgb = cv_scores_xgb.mean()\n",
        "\n",
        "print(f\"Accuracy en entrenamiento (XGBoost): {train_acc_xgb:.4f}\")\n",
        "print(f\"Accuracy en validación (XGBoost): {test_acc_xgb:.4f}\")\n",
        "print(f\"Accuracy en validación cruzada (XGBoost): {cv_mean_acc_xgb:.4f}\")\n",
        "print(f\"Diferencia entre entrenamiento y validación (XGBoost): {abs(train_acc_xgb - test_acc_xgb):.4f}\")\n"
      ],
      "metadata": {
        "colab": {
          "base_uri": "https://localhost:8080/"
        },
        "id": "Ip8Ye5JiL05-",
        "outputId": "c9da60ec-f342-40e6-de40-f98f10997957"
      },
      "execution_count": null,
      "outputs": [
        {
          "output_type": "stream",
          "name": "stdout",
          "text": [
            "Requirement already satisfied: xgboost in /usr/local/lib/python3.11/dist-packages (2.1.4)\n",
            "Requirement already satisfied: numpy in /usr/local/lib/python3.11/dist-packages (from xgboost) (2.0.2)\n",
            "Requirement already satisfied: nvidia-nccl-cu12 in /usr/local/lib/python3.11/dist-packages (from xgboost) (2.21.5)\n",
            "Requirement already satisfied: scipy in /usr/local/lib/python3.11/dist-packages (from xgboost) (1.14.1)\n",
            "Accuracy en entrenamiento (XGBoost): 0.8717\n",
            "Accuracy en validación (XGBoost): 0.8018\n",
            "Accuracy en validación cruzada (XGBoost): 0.8157\n",
            "Diferencia entre entrenamiento y validación (XGBoost): 0.0699\n"
          ]
        }
      ]
    },
    {
      "cell_type": "code",
      "source": [
        "from sklearn.svm import SVC\n",
        "from sklearn.model_selection import RandomizedSearchCV\n",
        "\n",
        "# Definir el modelo SVM\n",
        "model_svm = SVC(random_state=42)\n",
        "\n",
        "# Definir el grid reducido de hiperparámetros\n",
        "param_grid_svm = {\n",
        "    'C': [0.1, 1, 10],  # Reducir a solo tres valores\n",
        "    'kernel': ['linear', 'rbf'],  # Eliminar 'poly' para reducir el tiempo\n",
        "    'gamma': ['scale'],  # Solo probar 'scale' (más rápido que 'auto')\n",
        "}\n",
        "\n",
        "# Inicializar RandomizedSearchCV (n_iter especifica cuántas combinaciones probar)\n",
        "randomized_search_svm = RandomizedSearchCV(estimator=model_svm, param_distributions=param_grid_svm,\n",
        "                                           n_iter=20, scoring='accuracy', cv=3, n_jobs=-1, verbose=2, random_state=42)\n",
        "\n",
        "# Ajustar RandomizedSearchCV\n",
        "randomized_search_svm.fit(X_train, y_train)\n",
        "\n",
        "# Mostrar los mejores parámetros encontrados\n",
        "print(\"Mejores parámetros encontrados: \", randomized_search_svm.best_params_)\n",
        "\n",
        "# Evaluar el modelo con los mejores parámetros\n",
        "best_model_svm = randomized_search_svm.best_estimator_\n",
        "\n",
        "# Predicciones\n",
        "y_train_pred_svm = best_model_svm.predict(X_train)\n",
        "y_test_pred_svm = best_model_svm.predict(X_test)\n",
        "\n",
        "# Métricas\n",
        "train_acc_svm = accuracy_score(y_train, y_train_pred_svm)\n",
        "test_acc_svm = accuracy_score(y_test, y_test_pred_svm)\n",
        "cv_mean_acc_svm = randomized_search_svm.best_score_\n",
        "\n",
        "print(f\"Accuracy en entrenamiento (SVM): {train_acc_svm:.4f}\")\n",
        "print(f\"Accuracy en validación (SVM): {test_acc_svm:.4f}\")\n",
        "print(f\"Accuracy en validación cruzada (SVM): {cv_mean_acc_svm:.4f}\")\n",
        "print(f\"Diferencia entre entrenamiento y validación (SVM): {abs(train_acc_svm - test_acc_svm):.4f}\")\n"
      ],
      "metadata": {
        "colab": {
          "base_uri": "https://localhost:8080/"
        },
        "id": "zhZ717gnOb8B",
        "outputId": "392d5b22-34e2-4547-a7fc-aaf73af45b8c"
      },
      "execution_count": null,
      "outputs": [
        {
          "output_type": "stream",
          "name": "stdout",
          "text": [
            "Fitting 3 folds for each of 6 candidates, totalling 18 fits\n"
          ]
        },
        {
          "output_type": "stream",
          "name": "stderr",
          "text": [
            "/usr/local/lib/python3.11/dist-packages/sklearn/model_selection/_search.py:317: UserWarning: The total space of parameters 6 is smaller than n_iter=20. Running 6 iterations. For exhaustive searches, use GridSearchCV.\n",
            "  warnings.warn(\n"
          ]
        },
        {
          "output_type": "stream",
          "name": "stdout",
          "text": [
            "Mejores parámetros encontrados:  {'kernel': 'linear', 'gamma': 'scale', 'C': 0.1}\n",
            "Accuracy en entrenamiento (SVM): 0.7800\n",
            "Accuracy en validación (SVM): 0.7805\n",
            "Accuracy en validación cruzada (SVM): 0.7800\n",
            "Diferencia entre entrenamiento y validación (SVM): 0.0004\n"
          ]
        }
      ]
    },
    {
      "cell_type": "code",
      "source": [
        "from sklearn.svm import SVC\n",
        "from sklearn.model_selection import RandomizedSearchCV\n",
        "import numpy as np\n",
        "\n",
        "# Definir el modelo SVM\n",
        "model_svm = SVC(random_state=42)\n",
        "\n",
        "# Ampliar el grid de hiperparámetros (pero sin exagerar)\n",
        "param_grid_svm = {\n",
        "    'C': [0.1, 1, 10, 100],\n",
        "    'kernel': ['linear', 'rbf', 'poly'],\n",
        "    'gamma': ['scale', 'auto'],\n",
        "    'degree': [2, 3],  # Solo para 'poly'\n",
        "    'coef0': [0, 1]  # Ajuste solo para 'poly'\n",
        "}\n",
        "\n",
        "# Usar RandomizedSearchCV para un ajuste más rápido (evaluamos 20 combinaciones aleatorias)\n",
        "randomized_search_svm = RandomizedSearchCV(estimator=model_svm, param_distributions=param_grid_svm,\n",
        "                                           n_iter=20, scoring='accuracy', cv=3, n_jobs=-1, verbose=2, random_state=42)\n",
        "\n",
        "# Ajustar RandomizedSearchCV\n",
        "randomized_search_svm.fit(X_train, y_train)\n",
        "\n",
        "# Mostrar los mejores parámetros encontrados\n",
        "print(\"Mejores parámetros encontrados: \", randomized_search_svm.best_params_)\n",
        "\n",
        "# Evaluar el modelo con los mejores parámetros\n",
        "best_model_svm = randomized_search_svm.best_estimator_\n",
        "\n",
        "# Predicciones\n",
        "y_train_pred_svm = best_model_svm.predict(X_train)\n",
        "y_test_pred_svm = best_model_svm.predict(X_test)\n",
        "\n",
        "# Métricas\n",
        "train_acc_svm = accuracy_score(y_train, y_train_pred_svm)\n",
        "test_acc_svm = accuracy_score(y_test, y_test_pred_svm)\n",
        "cv_mean_acc_svm = randomized_search_svm.best_score_\n",
        "\n",
        "print(f\"Accuracy en entrenamiento (SVM): {train_acc_svm:.4f}\")\n",
        "print(f\"Accuracy en validación (SVM): {test_acc_svm:.4f}\")\n",
        "print(f\"Accuracy en validación cruzada (SVM): {cv_mean_acc_svm:.4f}\")\n",
        "print(f\"Diferencia entre entrenamiento y validación (SVM): {abs(train_acc_svm - test_acc_svm):.4f}\")\n"
      ],
      "metadata": {
        "colab": {
          "base_uri": "https://localhost:8080/",
          "height": 388
        },
        "id": "v5pLJWIFXdUR",
        "outputId": "f6ef7d45-a95c-43e6-eb6d-557b22127ce0"
      },
      "execution_count": null,
      "outputs": [
        {
          "output_type": "stream",
          "name": "stdout",
          "text": [
            "Fitting 3 folds for each of 20 candidates, totalling 60 fits\n"
          ]
        },
        {
          "output_type": "error",
          "ename": "KeyboardInterrupt",
          "evalue": "",
          "traceback": [
            "\u001b[0;31m---------------------------------------------------------------------------\u001b[0m",
            "\u001b[0;31mKeyboardInterrupt\u001b[0m                         Traceback (most recent call last)",
            "\u001b[0;32m<ipython-input-7-d9f89e0ae6b4>\u001b[0m in \u001b[0;36m<cell line: 0>\u001b[0;34m()\u001b[0m\n\u001b[1;32m     20\u001b[0m \u001b[0;34m\u001b[0m\u001b[0m\n\u001b[1;32m     21\u001b[0m \u001b[0;31m# Ajustar RandomizedSearchCV\u001b[0m\u001b[0;34m\u001b[0m\u001b[0;34m\u001b[0m\u001b[0m\n\u001b[0;32m---> 22\u001b[0;31m \u001b[0mrandomized_search_svm\u001b[0m\u001b[0;34m.\u001b[0m\u001b[0mfit\u001b[0m\u001b[0;34m(\u001b[0m\u001b[0mX_train\u001b[0m\u001b[0;34m,\u001b[0m \u001b[0my_train\u001b[0m\u001b[0;34m)\u001b[0m\u001b[0;34m\u001b[0m\u001b[0;34m\u001b[0m\u001b[0m\n\u001b[0m\u001b[1;32m     23\u001b[0m \u001b[0;34m\u001b[0m\u001b[0m\n\u001b[1;32m     24\u001b[0m \u001b[0;31m# Mostrar los mejores parámetros encontrados\u001b[0m\u001b[0;34m\u001b[0m\u001b[0;34m\u001b[0m\u001b[0m\n",
            "\u001b[0;32m/usr/local/lib/python3.11/dist-packages/sklearn/base.py\u001b[0m in \u001b[0;36mwrapper\u001b[0;34m(estimator, *args, **kwargs)\u001b[0m\n\u001b[1;32m   1387\u001b[0m                 )\n\u001b[1;32m   1388\u001b[0m             ):\n\u001b[0;32m-> 1389\u001b[0;31m                 \u001b[0;32mreturn\u001b[0m \u001b[0mfit_method\u001b[0m\u001b[0;34m(\u001b[0m\u001b[0mestimator\u001b[0m\u001b[0;34m,\u001b[0m \u001b[0;34m*\u001b[0m\u001b[0margs\u001b[0m\u001b[0;34m,\u001b[0m \u001b[0;34m**\u001b[0m\u001b[0mkwargs\u001b[0m\u001b[0;34m)\u001b[0m\u001b[0;34m\u001b[0m\u001b[0;34m\u001b[0m\u001b[0m\n\u001b[0m\u001b[1;32m   1390\u001b[0m \u001b[0;34m\u001b[0m\u001b[0m\n\u001b[1;32m   1391\u001b[0m         \u001b[0;32mreturn\u001b[0m \u001b[0mwrapper\u001b[0m\u001b[0;34m\u001b[0m\u001b[0;34m\u001b[0m\u001b[0m\n",
            "\u001b[0;32m/usr/local/lib/python3.11/dist-packages/sklearn/model_selection/_search.py\u001b[0m in \u001b[0;36mfit\u001b[0;34m(self, X, y, **params)\u001b[0m\n\u001b[1;32m   1022\u001b[0m                 \u001b[0;32mreturn\u001b[0m \u001b[0mresults\u001b[0m\u001b[0;34m\u001b[0m\u001b[0;34m\u001b[0m\u001b[0m\n\u001b[1;32m   1023\u001b[0m \u001b[0;34m\u001b[0m\u001b[0m\n\u001b[0;32m-> 1024\u001b[0;31m             \u001b[0mself\u001b[0m\u001b[0;34m.\u001b[0m\u001b[0m_run_search\u001b[0m\u001b[0;34m(\u001b[0m\u001b[0mevaluate_candidates\u001b[0m\u001b[0;34m)\u001b[0m\u001b[0;34m\u001b[0m\u001b[0;34m\u001b[0m\u001b[0m\n\u001b[0m\u001b[1;32m   1025\u001b[0m \u001b[0;34m\u001b[0m\u001b[0m\n\u001b[1;32m   1026\u001b[0m             \u001b[0;31m# multimetric is determined here because in the case of a callable\u001b[0m\u001b[0;34m\u001b[0m\u001b[0;34m\u001b[0m\u001b[0m\n",
            "\u001b[0;32m/usr/local/lib/python3.11/dist-packages/sklearn/model_selection/_search.py\u001b[0m in \u001b[0;36m_run_search\u001b[0;34m(self, evaluate_candidates)\u001b[0m\n\u001b[1;32m   1949\u001b[0m     \u001b[0;32mdef\u001b[0m \u001b[0m_run_search\u001b[0m\u001b[0;34m(\u001b[0m\u001b[0mself\u001b[0m\u001b[0;34m,\u001b[0m \u001b[0mevaluate_candidates\u001b[0m\u001b[0;34m)\u001b[0m\u001b[0;34m:\u001b[0m\u001b[0;34m\u001b[0m\u001b[0;34m\u001b[0m\u001b[0m\n\u001b[1;32m   1950\u001b[0m         \u001b[0;34m\"\"\"Search n_iter candidates from param_distributions\"\"\"\u001b[0m\u001b[0;34m\u001b[0m\u001b[0;34m\u001b[0m\u001b[0m\n\u001b[0;32m-> 1951\u001b[0;31m         evaluate_candidates(\n\u001b[0m\u001b[1;32m   1952\u001b[0m             ParameterSampler(\n\u001b[1;32m   1953\u001b[0m                 \u001b[0mself\u001b[0m\u001b[0;34m.\u001b[0m\u001b[0mparam_distributions\u001b[0m\u001b[0;34m,\u001b[0m \u001b[0mself\u001b[0m\u001b[0;34m.\u001b[0m\u001b[0mn_iter\u001b[0m\u001b[0;34m,\u001b[0m \u001b[0mrandom_state\u001b[0m\u001b[0;34m=\u001b[0m\u001b[0mself\u001b[0m\u001b[0;34m.\u001b[0m\u001b[0mrandom_state\u001b[0m\u001b[0;34m\u001b[0m\u001b[0;34m\u001b[0m\u001b[0m\n",
            "\u001b[0;32m/usr/local/lib/python3.11/dist-packages/sklearn/model_selection/_search.py\u001b[0m in \u001b[0;36mevaluate_candidates\u001b[0;34m(candidate_params, cv, more_results)\u001b[0m\n\u001b[1;32m    968\u001b[0m                     )\n\u001b[1;32m    969\u001b[0m \u001b[0;34m\u001b[0m\u001b[0m\n\u001b[0;32m--> 970\u001b[0;31m                 out = parallel(\n\u001b[0m\u001b[1;32m    971\u001b[0m                     delayed(_fit_and_score)(\n\u001b[1;32m    972\u001b[0m                         \u001b[0mclone\u001b[0m\u001b[0;34m(\u001b[0m\u001b[0mbase_estimator\u001b[0m\u001b[0;34m)\u001b[0m\u001b[0;34m,\u001b[0m\u001b[0;34m\u001b[0m\u001b[0;34m\u001b[0m\u001b[0m\n",
            "\u001b[0;32m/usr/local/lib/python3.11/dist-packages/sklearn/utils/parallel.py\u001b[0m in \u001b[0;36m__call__\u001b[0;34m(self, iterable)\u001b[0m\n\u001b[1;32m     75\u001b[0m             \u001b[0;32mfor\u001b[0m \u001b[0mdelayed_func\u001b[0m\u001b[0;34m,\u001b[0m \u001b[0margs\u001b[0m\u001b[0;34m,\u001b[0m \u001b[0mkwargs\u001b[0m \u001b[0;32min\u001b[0m \u001b[0miterable\u001b[0m\u001b[0;34m\u001b[0m\u001b[0;34m\u001b[0m\u001b[0m\n\u001b[1;32m     76\u001b[0m         )\n\u001b[0;32m---> 77\u001b[0;31m         \u001b[0;32mreturn\u001b[0m \u001b[0msuper\u001b[0m\u001b[0;34m(\u001b[0m\u001b[0;34m)\u001b[0m\u001b[0;34m.\u001b[0m\u001b[0m__call__\u001b[0m\u001b[0;34m(\u001b[0m\u001b[0miterable_with_config\u001b[0m\u001b[0;34m)\u001b[0m\u001b[0;34m\u001b[0m\u001b[0;34m\u001b[0m\u001b[0m\n\u001b[0m\u001b[1;32m     78\u001b[0m \u001b[0;34m\u001b[0m\u001b[0m\n\u001b[1;32m     79\u001b[0m \u001b[0;34m\u001b[0m\u001b[0m\n",
            "\u001b[0;32m/usr/local/lib/python3.11/dist-packages/joblib/parallel.py\u001b[0m in \u001b[0;36m__call__\u001b[0;34m(self, iterable)\u001b[0m\n\u001b[1;32m   2005\u001b[0m         \u001b[0mnext\u001b[0m\u001b[0;34m(\u001b[0m\u001b[0moutput\u001b[0m\u001b[0;34m)\u001b[0m\u001b[0;34m\u001b[0m\u001b[0;34m\u001b[0m\u001b[0m\n\u001b[1;32m   2006\u001b[0m \u001b[0;34m\u001b[0m\u001b[0m\n\u001b[0;32m-> 2007\u001b[0;31m         \u001b[0;32mreturn\u001b[0m \u001b[0moutput\u001b[0m \u001b[0;32mif\u001b[0m \u001b[0mself\u001b[0m\u001b[0;34m.\u001b[0m\u001b[0mreturn_generator\u001b[0m \u001b[0;32melse\u001b[0m \u001b[0mlist\u001b[0m\u001b[0;34m(\u001b[0m\u001b[0moutput\u001b[0m\u001b[0;34m)\u001b[0m\u001b[0;34m\u001b[0m\u001b[0;34m\u001b[0m\u001b[0m\n\u001b[0m\u001b[1;32m   2008\u001b[0m \u001b[0;34m\u001b[0m\u001b[0m\n\u001b[1;32m   2009\u001b[0m     \u001b[0;32mdef\u001b[0m \u001b[0m__repr__\u001b[0m\u001b[0;34m(\u001b[0m\u001b[0mself\u001b[0m\u001b[0;34m)\u001b[0m\u001b[0;34m:\u001b[0m\u001b[0;34m\u001b[0m\u001b[0;34m\u001b[0m\u001b[0m\n",
            "\u001b[0;32m/usr/local/lib/python3.11/dist-packages/joblib/parallel.py\u001b[0m in \u001b[0;36m_get_outputs\u001b[0;34m(self, iterator, pre_dispatch)\u001b[0m\n\u001b[1;32m   1648\u001b[0m \u001b[0;34m\u001b[0m\u001b[0m\n\u001b[1;32m   1649\u001b[0m             \u001b[0;32mwith\u001b[0m \u001b[0mself\u001b[0m\u001b[0;34m.\u001b[0m\u001b[0m_backend\u001b[0m\u001b[0;34m.\u001b[0m\u001b[0mretrieval_context\u001b[0m\u001b[0;34m(\u001b[0m\u001b[0;34m)\u001b[0m\u001b[0;34m:\u001b[0m\u001b[0;34m\u001b[0m\u001b[0;34m\u001b[0m\u001b[0m\n\u001b[0;32m-> 1650\u001b[0;31m                 \u001b[0;32myield\u001b[0m \u001b[0;32mfrom\u001b[0m \u001b[0mself\u001b[0m\u001b[0;34m.\u001b[0m\u001b[0m_retrieve\u001b[0m\u001b[0;34m(\u001b[0m\u001b[0;34m)\u001b[0m\u001b[0;34m\u001b[0m\u001b[0;34m\u001b[0m\u001b[0m\n\u001b[0m\u001b[1;32m   1651\u001b[0m \u001b[0;34m\u001b[0m\u001b[0m\n\u001b[1;32m   1652\u001b[0m         \u001b[0;32mexcept\u001b[0m \u001b[0mGeneratorExit\u001b[0m\u001b[0;34m:\u001b[0m\u001b[0;34m\u001b[0m\u001b[0;34m\u001b[0m\u001b[0m\n",
            "\u001b[0;32m/usr/local/lib/python3.11/dist-packages/joblib/parallel.py\u001b[0m in \u001b[0;36m_retrieve\u001b[0;34m(self)\u001b[0m\n\u001b[1;32m   1760\u001b[0m                 (self._jobs[0].get_status(\n\u001b[1;32m   1761\u001b[0m                     timeout=self.timeout) == TASK_PENDING)):\n\u001b[0;32m-> 1762\u001b[0;31m                 \u001b[0mtime\u001b[0m\u001b[0;34m.\u001b[0m\u001b[0msleep\u001b[0m\u001b[0;34m(\u001b[0m\u001b[0;36m0.01\u001b[0m\u001b[0;34m)\u001b[0m\u001b[0;34m\u001b[0m\u001b[0;34m\u001b[0m\u001b[0m\n\u001b[0m\u001b[1;32m   1763\u001b[0m                 \u001b[0;32mcontinue\u001b[0m\u001b[0;34m\u001b[0m\u001b[0;34m\u001b[0m\u001b[0m\n\u001b[1;32m   1764\u001b[0m \u001b[0;34m\u001b[0m\u001b[0m\n",
            "\u001b[0;31mKeyboardInterrupt\u001b[0m: "
          ]
        }
      ]
    },
    {
      "cell_type": "code",
      "source": [
        "from sklearn.linear_model import LogisticRegression\n",
        "from sklearn.model_selection import GridSearchCV\n",
        "\n",
        "# Definir el modelo de regresión logística\n",
        "model_lr = LogisticRegression(random_state=42, max_iter=1000)\n",
        "\n",
        "# Definir el grid de hiperparámetros a ajustar\n",
        "param_grid_lr = {\n",
        "    'C': [0.01, 0.1, 1, 10, 100],  # Ajustar regularización\n",
        "    'solver': ['lbfgs', 'liblinear'],  # Elegir entre diferentes solvers\n",
        "    'penalty': ['l2'],  # Regularización L2 (común para regresión logística)\n",
        "}\n",
        "\n",
        "# Configurar GridSearchCV con validación cruzada\n",
        "grid_search_lr = GridSearchCV(estimator=model_lr, param_grid=param_grid_lr,\n",
        "                              scoring='accuracy', cv=5, n_jobs=-1, verbose=2)\n",
        "\n",
        "# Ajustar el modelo\n",
        "grid_search_lr.fit(X_train, y_train)\n",
        "\n",
        "# Mostrar los mejores parámetros encontrados\n",
        "print(\"Mejores parámetros encontrados: \", grid_search_lr.best_params_)\n",
        "\n",
        "# Evaluar el modelo con los mejores parámetros\n",
        "best_model_lr = grid_search_lr.best_estimator_\n",
        "\n",
        "# Predicciones\n",
        "y_train_pred_lr = best_model_lr.predict(X_train)\n",
        "y_test_pred_lr = best_model_lr.predict(X_test)\n",
        "\n",
        "# Métricas\n",
        "train_acc_lr = accuracy_score(y_train, y_train_pred_lr)\n",
        "test_acc_lr = accuracy_score(y_test, y_test_pred_lr)\n",
        "cv_mean_acc_lr = grid_search_lr.best_score_\n",
        "\n",
        "print(f\"Accuracy en entrenamiento (Logistic Regression): {train_acc_lr:.4f}\")\n",
        "print(f\"Accuracy en validación (Logistic Regression): {test_acc_lr:.4f}\")\n",
        "print(f\"Accuracy en validación cruzada (Logistic Regression): {cv_mean_acc_lr:.4f}\")\n",
        "print(f\"Diferencia entre entrenamiento y validación (Logistic Regression): {abs(train_acc_lr - test_acc_lr):.4f}\")\n"
      ],
      "metadata": {
        "colab": {
          "base_uri": "https://localhost:8080/"
        },
        "id": "oegRP9WRZ3OZ",
        "outputId": "94211e4b-b7fb-40b8-97d8-d03aca4040c1"
      },
      "execution_count": null,
      "outputs": [
        {
          "output_type": "stream",
          "name": "stdout",
          "text": [
            "Fitting 5 folds for each of 10 candidates, totalling 50 fits\n",
            "Mejores parámetros encontrados:  {'C': 0.1, 'penalty': 'l2', 'solver': 'lbfgs'}\n",
            "Accuracy en entrenamiento (Logistic Regression): 0.7974\n",
            "Accuracy en validación (Logistic Regression): 0.8018\n",
            "Accuracy en validación cruzada (Logistic Regression): 0.7933\n",
            "Diferencia entre entrenamiento y validación (Logistic Regression): 0.0045\n"
          ]
        }
      ]
    },
    {
      "cell_type": "code",
      "source": [
        "from sklearn.linear_model import LogisticRegression\n",
        "from sklearn.model_selection import GridSearchCV\n",
        "from sklearn.preprocessing import StandardScaler\n",
        "\n",
        "# Escalar las características\n",
        "scaler = StandardScaler()\n",
        "X_scaled = scaler.fit_transform(X)\n",
        "\n",
        "# Definir el modelo de Regresión Logística\n",
        "logreg_model = LogisticRegression(random_state=42)\n",
        "\n",
        "# Definir el grid de hiperparámetros a ajustar\n",
        "param_grid_logreg = {\n",
        "    'C': [0.02, 0.2, 2, 20],\n",
        "    'penalty': ['l1', 'l1'],  # L1 es útil si queremos un modelo más esparso\n",
        "    'solver': ['liblinear', 'saga'],  # 'liblinear' es mejor para datos pequeños y 'saga' para más grandes\n",
        "}\n",
        "\n",
        "# Configurar GridSearchCV con validación cruzada\n",
        "grid_search_logreg = GridSearchCV(estimator=logreg_model, param_grid=param_grid_logreg,\n",
        "                                  scoring='accuracy', cv=10, n_jobs=-1, verbose=2)\n",
        "\n",
        "# Ajustar el modelo\n",
        "grid_search_logreg.fit(X_scaled, y)\n",
        "\n",
        "# Mostrar los mejores parámetros encontrados\n",
        "print(\"Mejores parámetros encontrados: \", grid_search_logreg.best_params_)\n",
        "\n",
        "# Evaluar el modelo con los mejores parámetros\n",
        "best_model_logreg = grid_search_logreg.best_estimator_\n",
        "\n",
        "# Predicciones\n",
        "y_train_pred_logreg = best_model_logreg.predict(X_scaled)\n",
        "y_test_pred_logreg = best_model_logreg.predict(X_test)\n",
        "\n",
        "# Métricas\n",
        "train_acc_logreg = accuracy_score(y, y_train_pred_logreg)\n",
        "test_acc_logreg = accuracy_score(y_test, y_test_pred_logreg)\n",
        "cv_mean_acc_logreg = grid_search_logreg.best_score_\n",
        "\n",
        "print(f\"Accuracy en entrenamiento (Regresión Logística): {train_acc_logreg:.4f}\")\n",
        "print(f\"Accuracy en validación (Regresión Logística): {test_acc_logreg:.4f}\")\n",
        "print(f\"Accuracy en validación cruzada (Regresión Logística): {cv_mean_acc_logreg:.4f}\")\n",
        "print(f\"Diferencia entre entrenamiento y validación (Regresión Logística): {abs(train_acc_logreg - test_acc_logreg):.4f}\")\n"
      ],
      "metadata": {
        "colab": {
          "base_uri": "https://localhost:8080/"
        },
        "id": "FUzrnJrgbIZE",
        "outputId": "2c77e5a1-eed2-45c1-90a6-2fc700f71bff"
      },
      "execution_count": null,
      "outputs": [
        {
          "output_type": "stream",
          "name": "stdout",
          "text": [
            "Fitting 10 folds for each of 16 candidates, totalling 160 fits\n",
            "Mejores parámetros encontrados:  {'C': 0.02, 'penalty': 'l1', 'solver': 'saga'}\n",
            "Accuracy en entrenamiento (Regresión Logística): 0.7802\n",
            "Accuracy en validación (Regresión Logística): 0.5884\n",
            "Accuracy en validación cruzada (Regresión Logística): 0.7802\n",
            "Diferencia entre entrenamiento y validación (Regresión Logística): 0.1917\n"
          ]
        },
        {
          "output_type": "stream",
          "name": "stderr",
          "text": [
            "/usr/local/lib/python3.11/dist-packages/sklearn/utils/validation.py:2732: UserWarning: X has feature names, but LogisticRegression was fitted without feature names\n",
            "  warnings.warn(\n"
          ]
        }
      ]
    },
    {
      "cell_type": "code",
      "source": [
        "from sklearn.preprocessing import RobustScaler\n",
        "\n",
        "# Escalar los datos con RobustScaler\n",
        "scaler_robust = RobustScaler()\n",
        "X_scaled_robust = scaler_robust.fit_transform(X_train)\n",
        "\n",
        "# Extender el rango de valores para 'n_neighbors' y ajustar 'weights'\n",
        "param_grid_balance = {\n",
        "    'n_neighbors': [5, 7, 9, 11, 13],  # Ajustar 'n_neighbors'\n",
        "    'weights': ['uniform', 'distance'],  # Pesos uniformes vs. por distancia\n",
        "    'metric': ['euclidean', 'manhattan', 'chebyshev']  # Probar diferentes métricas\n",
        "}\n",
        "\n",
        "# Crear el modelo KNN\n",
        "knn_balance = KNeighborsClassifier()\n",
        "\n",
        "# Usar GridSearchCV para encontrar los mejores parámetros\n",
        "grid_search_balance = GridSearchCV(knn_balance, param_grid_balance, cv=5, scoring='accuracy', n_jobs=-1)\n",
        "grid_search_balance.fit(X_scaled_robust, y_train)\n",
        "\n",
        "# Mejor conjunto de parámetros\n",
        "print(\"Mejores parámetros encontrados:\", grid_search_balance.best_params_)\n",
        "\n",
        "# Entrenar y evaluar el modelo con los mejores parámetros\n",
        "best_knn_balance = grid_search_balance.best_estimator_\n",
        "\n",
        "# Evaluar en el conjunto de entrenamiento y validación\n",
        "train_accuracy_balance = best_knn_balance.score(X_scaled_robust, y_train)\n",
        "val_accuracy_balance = best_knn_balance.score(X_test, y_test)\n",
        "\n",
        "# Validación cruzada\n",
        "cv_accuracy_balance = cross_val_score(best_knn_balance, X_scaled_robust, y_train, cv=5, scoring='accuracy').mean()\n",
        "\n",
        "# Mostrar resultados\n",
        "print(f\"Accuracy en entrenamiento (KNN): {train_accuracy_balance:.4f}\")\n",
        "print(f\"Accuracy en validación (KNN): {val_accuracy_balance:.4f}\")\n",
        "print(f\"Accuracy en validación cruzada (KNN): {cv_accuracy_balance:.4f}\")\n"
      ],
      "metadata": {
        "colab": {
          "base_uri": "https://localhost:8080/",
          "height": 219
        },
        "id": "zXJJF6axc7XS",
        "outputId": "b23ad375-791a-4c3f-8063-abc992eeea3e"
      },
      "execution_count": null,
      "outputs": [
        {
          "output_type": "error",
          "ename": "NameError",
          "evalue": "name 'KNeighborsClassifier' is not defined",
          "traceback": [
            "\u001b[0;31m---------------------------------------------------------------------------\u001b[0m",
            "\u001b[0;31mNameError\u001b[0m                                 Traceback (most recent call last)",
            "\u001b[0;32m<ipython-input-12-142925892b4d>\u001b[0m in \u001b[0;36m<cell line: 0>\u001b[0;34m()\u001b[0m\n\u001b[1;32m     13\u001b[0m \u001b[0;34m\u001b[0m\u001b[0m\n\u001b[1;32m     14\u001b[0m \u001b[0;31m# Crear el modelo KNN\u001b[0m\u001b[0;34m\u001b[0m\u001b[0;34m\u001b[0m\u001b[0m\n\u001b[0;32m---> 15\u001b[0;31m \u001b[0mknn_balance\u001b[0m \u001b[0;34m=\u001b[0m \u001b[0mKNeighborsClassifier\u001b[0m\u001b[0;34m(\u001b[0m\u001b[0;34m)\u001b[0m\u001b[0;34m\u001b[0m\u001b[0;34m\u001b[0m\u001b[0m\n\u001b[0m\u001b[1;32m     16\u001b[0m \u001b[0;34m\u001b[0m\u001b[0m\n\u001b[1;32m     17\u001b[0m \u001b[0;31m# Usar GridSearchCV para encontrar los mejores parámetros\u001b[0m\u001b[0;34m\u001b[0m\u001b[0;34m\u001b[0m\u001b[0m\n",
            "\u001b[0;31mNameError\u001b[0m: name 'KNeighborsClassifier' is not defined"
          ]
        }
      ]
    },
    {
      "cell_type": "code",
      "source": [
        "from sklearn.ensemble import RandomForestClassifier\n",
        "from sklearn.model_selection import GridSearchCV\n",
        "from sklearn.preprocessing import StandardScaler\n",
        "\n",
        "# Escalar los datos\n",
        "scaler = StandardScaler()\n",
        "X_scaled = scaler.fit_transform(X_train)\n",
        "\n",
        "# Definir el rango de parámetros a explorar\n",
        "param_grid_rf = {\n",
        "    'n_estimators': [100, 200, 300],  # Número de árboles\n",
        "    'max_depth': [None, 10, 20, 30],  # Profundidad máxima de los árboles\n",
        "    'min_samples_split': [2, 5, 10],  # Mínimo de muestras para dividir un nodo\n",
        "    'min_samples_leaf': [1, 2, 4],  # Mínimo de muestras por hoja\n",
        "    'bootstrap': [True, False]  # Si se utiliza el muestreo con reemplazo\n",
        "}\n",
        "\n",
        "# Crear el clasificador Random Forest\n",
        "rf = RandomForestClassifier(random_state=42)\n",
        "\n",
        "# Usar GridSearchCV para encontrar los mejores parámetros\n",
        "grid_search_rf = GridSearchCV(rf, param_grid_rf, cv=5, scoring='accuracy', n_jobs=-1)\n",
        "grid_search_rf.fit(X_scaled, y_train)\n",
        "\n",
        "# Mejor conjunto de parámetros\n",
        "print(\"Mejores parámetros encontrados:\", grid_search_rf.best_params_)\n",
        "\n",
        "# Entrenar y evaluar el modelo con los mejores parámetros\n",
        "best_rf = grid_search_rf.best_estimator_\n",
        "\n",
        "# Evaluar en el conjunto de entrenamiento y validación\n",
        "train_accuracy_rf = best_rf.score(X_scaled, y_train)\n",
        "val_accuracy_rf = best_rf.score(X_test, y_test)\n",
        "\n",
        "# Validación cruzada\n",
        "cv_accuracy_rf = cross_val_score(best_rf, X_scaled, y_train, cv=5, scoring='accuracy').mean()\n",
        "\n",
        "# Mostrar resultados\n",
        "print(f\"Accuracy en entrenamiento (Random Forest): {train_accuracy_rf:.4f}\")\n",
        "print(f\"Accuracy en validación (Random Forest): {val_accuracy_rf:.4f}\")\n",
        "print(f\"Accuracy en validación cruzada (Random Forest): {cv_accuracy_rf:.4f}\")\n"
      ],
      "metadata": {
        "colab": {
          "base_uri": "https://localhost:8080/"
        },
        "id": "VBqDrExKfCfU",
        "outputId": "1454f89c-1248-46a4-81ca-e33527831f87"
      },
      "execution_count": null,
      "outputs": [
        {
          "output_type": "stream",
          "name": "stdout",
          "text": [
            "Mejores parámetros encontrados: {'bootstrap': True, 'max_depth': None, 'min_samples_leaf': 4, 'min_samples_split': 2, 'n_estimators': 300}\n"
          ]
        },
        {
          "output_type": "stream",
          "name": "stderr",
          "text": [
            "/usr/local/lib/python3.11/dist-packages/sklearn/utils/validation.py:2732: UserWarning: X has feature names, but RandomForestClassifier was fitted without feature names\n",
            "  warnings.warn(\n"
          ]
        },
        {
          "output_type": "stream",
          "name": "stdout",
          "text": [
            "Accuracy en entrenamiento (Random Forest): 0.8605\n",
            "Accuracy en validación (Random Forest): 0.5884\n",
            "Accuracy en validación cruzada (Random Forest): 0.8167\n"
          ]
        }
      ]
    }
  ]
}