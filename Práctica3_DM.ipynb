{
  "nbformat": 4,
  "nbformat_minor": 0,
  "metadata": {
    "colab": {
      "provenance": [],
      "authorship_tag": "ABX9TyMXIlOi89BX+pq3zvsCJgML",
      "include_colab_link": true
    },
    "kernelspec": {
      "name": "python3",
      "display_name": "Python 3"
    },
    "language_info": {
      "name": "python"
    }
  },
  "cells": [
    {
      "cell_type": "markdown",
      "metadata": {
        "id": "view-in-github",
        "colab_type": "text"
      },
      "source": [
        "<a href=\"https://colab.research.google.com/github/ArturoAntonioSotoOsornio/DMUNAM2025/blob/BesneCabreraAlberto_317012743/Pr%C3%A1ctica3_DM.ipynb\" target=\"_parent\"><img src=\"https://colab.research.google.com/assets/colab-badge.svg\" alt=\"Open In Colab\"/></a>"
      ]
    },
    {
      "cell_type": "markdown",
      "source": [
        "##Librerías y visualización previa"
      ],
      "metadata": {
        "id": "_yP2WqtxLmFN"
      }
    },
    {
      "cell_type": "code",
      "execution_count": 1,
      "metadata": {
        "colab": {
          "base_uri": "https://localhost:8080/"
        },
        "id": "98YsZ-utJ_3G",
        "outputId": "ee4687a8-4685-429f-d71a-88812162ae01"
      },
      "outputs": [
        {
          "output_type": "stream",
          "name": "stdout",
          "text": [
            "<class 'pandas.core.frame.DataFrame'>\n",
            "RangeIndex: 1310 entries, 0 to 1309\n",
            "Data columns (total 14 columns):\n",
            " #   Column     Non-Null Count  Dtype  \n",
            "---  ------     --------------  -----  \n",
            " 0   pclass     1309 non-null   float64\n",
            " 1   survived   1309 non-null   float64\n",
            " 2   name       1309 non-null   object \n",
            " 3   sex        1309 non-null   object \n",
            " 4   age        1046 non-null   float64\n",
            " 5   sibsp      1309 non-null   float64\n",
            " 6   parch      1309 non-null   float64\n",
            " 7   ticket     1309 non-null   object \n",
            " 8   fare       1308 non-null   float64\n",
            " 9   cabin      295 non-null    object \n",
            " 10  embarked   1307 non-null   object \n",
            " 11  boat       486 non-null    object \n",
            " 12  body       121 non-null    float64\n",
            " 13  home.dest  745 non-null    object \n",
            "dtypes: float64(7), object(7)\n",
            "memory usage: 143.4+ KB\n",
            "None\n",
            "   pclass  survived                                             name     sex  \\\n",
            "0     1.0       1.0                    Allen, Miss. Elisabeth Walton  female   \n",
            "1     1.0       1.0                   Allison, Master. Hudson Trevor    male   \n",
            "2     1.0       0.0                     Allison, Miss. Helen Loraine  female   \n",
            "3     1.0       0.0             Allison, Mr. Hudson Joshua Creighton    male   \n",
            "4     1.0       0.0  Allison, Mrs. Hudson J C (Bessie Waldo Daniels)  female   \n",
            "\n",
            "       age  sibsp  parch  ticket      fare    cabin embarked boat   body  \\\n",
            "0  29.0000    0.0    0.0   24160  211.3375       B5        S    2    NaN   \n",
            "1   0.9167    1.0    2.0  113781  151.5500  C22 C26        S   11    NaN   \n",
            "2   2.0000    1.0    2.0  113781  151.5500  C22 C26        S  NaN    NaN   \n",
            "3  30.0000    1.0    2.0  113781  151.5500  C22 C26        S  NaN  135.0   \n",
            "4  25.0000    1.0    2.0  113781  151.5500  C22 C26        S  NaN    NaN   \n",
            "\n",
            "                         home.dest  \n",
            "0                     St Louis, MO  \n",
            "1  Montreal, PQ / Chesterville, ON  \n",
            "2  Montreal, PQ / Chesterville, ON  \n",
            "3  Montreal, PQ / Chesterville, ON  \n",
            "4  Montreal, PQ / Chesterville, ON  \n"
          ]
        }
      ],
      "source": [
        "import pandas as pd\n",
        "import numpy as np\n",
        "from sklearn.model_selection import train_test_split\n",
        "from sklearn.preprocessing import StandardScaler, OneHotEncoder\n",
        "from sklearn.impute import SimpleImputer\n",
        "from sklearn.compose import ColumnTransformer\n",
        "from sklearn.pipeline import Pipeline\n",
        "from sklearn.metrics import accuracy_score\n",
        "from sklearn.model_selection import GridSearchCV, train_test_split\n",
        "from sklearn.ensemble import RandomForestClassifier\n",
        "from sklearn.svm import SVC\n",
        "\n",
        "df = pd.read_csv('/content/titanic.csv')\n",
        "print(df.info())\n",
        "print(df.head())"
      ]
    },
    {
      "cell_type": "markdown",
      "source": [
        "##Trabajando valores faltantes\n",
        "\n",
        "- Age: Imputamos con la mediana\n",
        "- Embarked: Imputamos con \"mode\"\n",
        "- Cabin: muchos valores faltantes y no representa mucha influencia en el modelado\n",
        "- Boat/Body: sin utilidad para predecir\n",
        "- Home.dest: tampoco necesario para predecir"
      ],
      "metadata": {
        "id": "ZQmQrRqzLfDp"
      }
    },
    {
      "cell_type": "code",
      "source": [
        "print(\"Missing values in 'survived':\", df['survived'].isna().sum())\n",
        "df = df.dropna(subset=['survived'])"
      ],
      "metadata": {
        "colab": {
          "base_uri": "https://localhost:8080/"
        },
        "id": "NTK0sxIPLZl_",
        "outputId": "d08e05e8-b95b-4702-d52b-ad68a562e0e1"
      },
      "execution_count": 2,
      "outputs": [
        {
          "output_type": "stream",
          "name": "stdout",
          "text": [
            "Missing values in 'survived': 1\n"
          ]
        }
      ]
    },
    {
      "cell_type": "markdown",
      "source": [
        "## Clasificación de variables\n",
        "Clasificar en variables numéricas o categóricas"
      ],
      "metadata": {
        "id": "fdz2MxG7McwD"
      }
    },
    {
      "cell_type": "code",
      "source": [
        "df['title'] = df['name'].str.extract(' ([A-Za-z]+)\\.', expand=False)\n",
        "df = df.drop('name', axis=1)\n",
        "\n",
        "# Group rare titles\n",
        "rare_titles = ['Lady', 'Countess', 'Capt', 'Col', 'Don', 'Dr',\n",
        "               'Major', 'Rev', 'Sir', 'Jonkheer', 'Dona']\n",
        "df['title'] = df['title'].replace(rare_titles, 'Rare')\n",
        "df['title'] = df['title'].replace('Mlle', 'Miss')\n",
        "df['title'] = df['title'].replace('Ms', 'Miss')\n",
        "df['title'] = df['title'].replace('Mme', 'Mrs')"
      ],
      "metadata": {
        "id": "fwMsdFR5Ls3i"
      },
      "execution_count": 3,
      "outputs": []
    },
    {
      "cell_type": "markdown",
      "source": [
        "## Pre-entrenamiento\n",
        "Definimos variables y partición de nuestro conjunto de datos"
      ],
      "metadata": {
        "id": "Y81pcuhPM3US"
      }
    },
    {
      "cell_type": "code",
      "source": [
        "X = df.drop('survived', axis=1)\n",
        "y = df['survived']\n",
        "X_train, X_test, y_train, y_test = train_test_split(\n",
        "    X, y, test_size=0.2, random_state=42, stratify=y)\n",
        "\n",
        "numerical_features = ['age', 'sibsp', 'parch', 'fare']\n",
        "categorical_features = ['pclass', 'sex', 'embarked', 'title']\n",
        "\n",
        "numerical_transformer = Pipeline(steps=[\n",
        "    ('imputer', SimpleImputer(strategy='median')),\n",
        "    ('scaler', StandardScaler())])\n",
        "\n",
        "categorical_transformer = Pipeline(steps=[\n",
        "    ('imputer', SimpleImputer(strategy='most_frequent')),\n",
        "    ('onehot', OneHotEncoder(handle_unknown='ignore'))])\n",
        "\n",
        "preprocessor = ColumnTransformer(\n",
        "    transformers=[\n",
        "        ('num', numerical_transformer, numerical_features),\n",
        "        ('cat', categorical_transformer, categorical_features)])\n",
        "\n",
        "X_train_preprocessed = preprocessor.fit_transform(X_train)\n",
        "X_test_preprocessed = preprocessor.transform(X_test)"
      ],
      "metadata": {
        "id": "mjSYY3b-Mz8o"
      },
      "execution_count": 4,
      "outputs": []
    },
    {
      "cell_type": "markdown",
      "source": [
        "##Construyendo los modelos"
      ],
      "metadata": {
        "id": "fwvO4u09OtWx"
      }
    },
    {
      "cell_type": "markdown",
      "source": [
        "#Red Neuronal"
      ],
      "metadata": {
        "id": "vkKGId0TOzMW"
      }
    },
    {
      "cell_type": "code",
      "source": [
        "from sklearn.neural_network import MLPClassifier\n",
        "\n",
        "nn = MLPClassifier(hidden_layer_sizes=(100,50), max_iter=5000,\n",
        "                  learning_rate='adaptive', early_stopping=True, random_state=42)\n",
        "nn.fit(X_train_preprocessed, y_train)\n",
        "y_pred_nn = nn.predict(X_test_preprocessed)\n",
        "print(f\"Neural Network Accuracy: {accuracy_score(y_test, y_pred_nn):.4f}\")"
      ],
      "metadata": {
        "colab": {
          "base_uri": "https://localhost:8080/"
        },
        "id": "cZ_nMHWENKpE",
        "outputId": "0e40dec3-07c8-4472-9b60-b05db87552cb"
      },
      "execution_count": 10,
      "outputs": [
        {
          "output_type": "stream",
          "name": "stdout",
          "text": [
            "Neural Network Accuracy: 0.7634\n"
          ]
        }
      ]
    },
    {
      "cell_type": "markdown",
      "source": [
        "#Random Forest"
      ],
      "metadata": {
        "id": "kpKjwMFhPJKQ"
      }
    },
    {
      "cell_type": "code",
      "source": [
        "from sklearn.ensemble import RandomForestClassifier\n",
        "\n",
        "rf = RandomForestClassifier(n_estimators=100, max_depth=5, random_state=42)\n",
        "rf.fit(X_train_preprocessed, y_train)\n",
        "y_pred_rf = rf.predict(X_test_preprocessed)\n",
        "print(f\"Random Forest Accuracy: {accuracy_score(y_test, y_pred_rf):.4f}\")"
      ],
      "metadata": {
        "colab": {
          "base_uri": "https://localhost:8080/"
        },
        "id": "vzN5wNHQO2u9",
        "outputId": "dc94d00a-da6e-446b-b2ee-e50d1b8192e0"
      },
      "execution_count": 6,
      "outputs": [
        {
          "output_type": "stream",
          "name": "stdout",
          "text": [
            "Random Forest Accuracy: 0.8588\n"
          ]
        }
      ]
    },
    {
      "cell_type": "markdown",
      "source": [
        "#AdaBoost"
      ],
      "metadata": {
        "id": "ESfz9HvZPQZc"
      }
    },
    {
      "cell_type": "code",
      "source": [
        "from sklearn.ensemble import AdaBoostClassifier\n",
        "\n",
        "ada = AdaBoostClassifier(n_estimators=100, random_state=42)\n",
        "ada.fit(X_train_preprocessed, y_train)\n",
        "y_pred_ada = ada.predict(X_test_preprocessed)\n",
        "print(f\"AdaBoost Accuracy: {accuracy_score(y_test, y_pred_ada):.4f}\")"
      ],
      "metadata": {
        "colab": {
          "base_uri": "https://localhost:8080/"
        },
        "id": "QsWDXYgBPNda",
        "outputId": "6dd8d69d-73db-4aae-8180-2bdb3267d451"
      },
      "execution_count": 7,
      "outputs": [
        {
          "output_type": "stream",
          "name": "stdout",
          "text": [
            "AdaBoost Accuracy: 0.8359\n"
          ]
        }
      ]
    },
    {
      "cell_type": "markdown",
      "source": [
        "#Análisis discriminante"
      ],
      "metadata": {
        "id": "X4t59oE0PZBw"
      }
    },
    {
      "cell_type": "code",
      "source": [
        "from sklearn.discriminant_analysis import LinearDiscriminantAnalysis\n",
        "\n",
        "lda = LinearDiscriminantAnalysis()\n",
        "lda.fit(X_train_preprocessed, y_train)\n",
        "y_pred_lda = lda.predict(X_test_preprocessed)\n",
        "print(f\"LDA Accuracy: {accuracy_score(y_test, y_pred_lda):.4f}\")"
      ],
      "metadata": {
        "colab": {
          "base_uri": "https://localhost:8080/"
        },
        "id": "ZOleEoSbPTYF",
        "outputId": "4fc4bf44-2ee8-44d4-fe73-d0b680d77589"
      },
      "execution_count": 8,
      "outputs": [
        {
          "output_type": "stream",
          "name": "stdout",
          "text": [
            "LDA Accuracy: 0.8473\n"
          ]
        }
      ]
    },
    {
      "cell_type": "markdown",
      "source": [
        "#Máquina de Soporte vectorial"
      ],
      "metadata": {
        "id": "pJYHIoSePkMP"
      }
    },
    {
      "cell_type": "code",
      "source": [
        "from sklearn.svm import SVC\n",
        "\n",
        "svm = SVC(kernel='rbf', C=1.0, gamma='scale', probability=True, random_state=42)\n",
        "svm.fit(X_train_preprocessed, y_train)\n",
        "y_pred_svm = svm.predict(X_test_preprocessed)\n",
        "print(f\"SVM Accuracy: {accuracy_score(y_test, y_pred_svm):.4f}\")"
      ],
      "metadata": {
        "colab": {
          "base_uri": "https://localhost:8080/"
        },
        "id": "m-I_29eVPcka",
        "outputId": "20b1bdce-eff8-4f86-e3c8-2d9cc9237622"
      },
      "execution_count": 9,
      "outputs": [
        {
          "output_type": "stream",
          "name": "stdout",
          "text": [
            "SVM Accuracy: 0.8473\n"
          ]
        }
      ]
    },
    {
      "cell_type": "markdown",
      "source": [
        "#Evaluación del mejor modelo\n",
        "\n",
        "Utilizaremos \"cross-validation\" y \"hyperparameter tuning\" para los mejores modelos"
      ],
      "metadata": {
        "id": "Auti8g5jPyNf"
      }
    },
    {
      "cell_type": "code",
      "source": [
        "from sklearn.metrics import accuracy_score, precision_score, recall_score, f1_score, roc_auc_score\n",
        "\n",
        "def evaluate_model(model, X_test, y_test):\n",
        "    y_pred = model.predict(X_test)\n",
        "    y_proba = model.predict_proba(X_test)[:, 1] if hasattr(model, \"predict_proba\") else None\n",
        "\n",
        "    metrics = {\n",
        "        'Accuracy': accuracy_score(y_test, y_pred),\n",
        "        'Precision': precision_score(y_test, y_pred),\n",
        "        'Recall': recall_score(y_test, y_pred),\n",
        "        'F1-Score': f1_score(y_test, y_pred),\n",
        "        'ROC AUC': roc_auc_score(y_test, y_proba) if y_proba is not None else None\n",
        "    }\n",
        "    return metrics\n",
        "\n",
        "# Evaluar todos los modelos\n",
        "models = {'Random Forest': rf, 'SVM': svm}\n",
        "results = {name: evaluate_model(model, X_test_preprocessed, y_test) for name, model in models.items()}\n",
        "\n",
        "# Convertir a DataFrame para visualización\n",
        "import pandas as pd\n",
        "results_df = pd.DataFrame(results).T\n",
        "print(results_df)"
      ],
      "metadata": {
        "colab": {
          "base_uri": "https://localhost:8080/"
        },
        "id": "TMJjBlJZe1AE",
        "outputId": "85ec8172-3140-42e3-d0c5-f38f501b28ad"
      },
      "execution_count": 21,
      "outputs": [
        {
          "output_type": "stream",
          "name": "stdout",
          "text": [
            "               Accuracy  Precision  Recall  F1-Score   ROC AUC\n",
            "Random Forest  0.858779   0.846154    0.77  0.806283  0.895247\n",
            "SVM            0.847328   0.819149    0.77  0.793814  0.869352\n"
          ]
        }
      ]
    },
    {
      "cell_type": "code",
      "source": [
        "import matplotlib.pyplot as plt\n",
        "from sklearn.metrics import ConfusionMatrixDisplay\n",
        "\n",
        "fig, axes = plt.subplots(1, 2, figsize=(15, 5))\n",
        "for ax, (name, model) in zip(axes, models.items()):\n",
        "    ConfusionMatrixDisplay.from_estimator(model, X_test_preprocessed, y_test, ax=ax)\n",
        "    ax.set_title(name)\n",
        "plt.show()"
      ],
      "metadata": {
        "colab": {
          "base_uri": "https://localhost:8080/",
          "height": 487
        },
        "id": "HOMHR69wfn2Z",
        "outputId": "7faf675a-7e11-47f0-d7c0-9c813aa35ef5"
      },
      "execution_count": 22,
      "outputs": [
        {
          "output_type": "display_data",
          "data": {
            "text/plain": [
              "<Figure size 1500x500 with 4 Axes>"
            ],
            "image/png": "[encoded data removed]"
          },
          "metadata": {}
        }
      ]
    },
    {
      "cell_type": "code",
      "source": [
        "from sklearn.metrics import RocCurveDisplay, PrecisionRecallDisplay\n",
        "\n",
        "fig, (ax1, ax2) = plt.subplots(1, 2, figsize=(15, 5))\n",
        "for name, model in models.items():\n",
        "    RocCurveDisplay.from_estimator(model, X_test_preprocessed, y_test, ax=ax1, name=name)\n",
        "    PrecisionRecallDisplay.from_estimator(model, X_test_preprocessed, y_test, ax=ax2, name=name)\n",
        "ax1.set_title('Curva ROC')\n",
        "ax2.set_title('Curva Precision-Recall')\n",
        "plt.show()"
      ],
      "metadata": {
        "colab": {
          "base_uri": "https://localhost:8080/",
          "height": 487
        },
        "id": "CEtZPfQEfuB7",
        "outputId": "82b57e0c-90c0-4a36-b99e-89fbae29de5b"
      },
      "execution_count": 23,
      "outputs": [
        {
          "output_type": "display_data",
          "data": {
            "text/plain": [
              "<Figure size 1500x500 with 2 Axes>"
            ],
            "image/png": "[encoded data removed]"
          },
          "metadata": {}
        }
      ]
    },
    {
      "cell_type": "markdown",
      "source": [
        "#Cocnlusiones\n",
        "\n",
        "- Matrices de confusión:\n",
        "\n",
        "1. Ambos modelos tienen un desempeño similar, pero Random Forest tiene una leve ventaja, con menos falsos negativos (14 vs. 17) en la clase 0.\n",
        "\n",
        "2. Los falsos positivos (23) en la clase 1 son iguales en ambos modelos.\n",
        "\n",
        "3. Random Forest parece clasificar mejor la clase 0, ya que predice correctamente 148 casos en comparación con 145 de SVM.\n",
        "\n",
        "- Curva ROC:\n",
        "\n",
        "1. Random Forest tiene un AUC de 0.90, mientras que SVM tiene un AUC de 0.87.\n",
        "\n",
        "2. Esto indica que Random Forest tiene un mejor balance entre sensibilidad y especificidad, aunque la diferencia no es muy grande.\n",
        "\n",
        "- Curva Precision-Recall:\n",
        "\n",
        "1. Random Forest tiene AP (Área bajo la curva Precision-Recall) de 0.87, mientras que SVM tiene AP de 0.85.\n",
        "\n",
        "2. Un mayor AP sugiere que Random Forest tiene un mejor desempeño en la clasificación de la clase positiva (cuando el dataset es desbalanceado, esta métrica es más relevante que ROC).\n",
        "\n",
        "El modelo basado en Random Forest es más efectivo para predecir la supervivencia de los pasajeros del Titanic, logrando un mejor equilibrio entre precisión y recall. Si el objetivo es identificar correctamente a los sobrevivientes, Random Forest es la mejor opción. No obstante, el desempeño de SVM también es aceptable, aunque con una leve inferioridad en la clasificación de los sobrevivientes."
      ],
      "metadata": {
        "id": "aObUfEU7glEJ"
      }
    }
  ]
}