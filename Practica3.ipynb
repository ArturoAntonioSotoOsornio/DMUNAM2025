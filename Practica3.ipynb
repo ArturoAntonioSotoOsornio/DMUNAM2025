{
  "nbformat": 4,
  "nbformat_minor": 0,
  "metadata": {
    "colab": {
      "provenance": []
    },
    "kernelspec": {
      "name": "python3",
      "display_name": "Python 3"
    },
    "language_info": {
      "name": "python"
    }
  },
  "cells": [
    {
      "cell_type": "code",
      "source": [
        "import pandas as pd\n",
        "import matplotlib.pyplot as plt\n",
        "import cufflinks as cf\n",
        "import numpy as np\n",
        "from sklearn.impute import SimpleImputer\n",
        "from scipy.stats import ks_2samp\n"
      ],
      "metadata": {
        "id": "_QBDiyISmQE1"
      },
      "execution_count": 120,
      "outputs": []
    },
    {
      "cell_type": "code",
      "source": [
        "pd.set_option(\"display.max_columns\",30)\n",
        "pd.set_option(\"display.max_rows\",3000)\n",
        "cf.go_offline()\n"
      ],
      "metadata": {
        "colab": {
          "base_uri": "https://localhost:8080/",
          "height": 17
        },
        "id": "ebk67XT3mSPt",
        "outputId": "a5c77d19-c3ae-4a38-f4b7-db3610cc412f"
      },
      "execution_count": 121,
      "outputs": [
        {
          "output_type": "display_data",
          "data": {
            "text/html": [
              "        <script type=\"text/javascript\">\n",
              "        window.PlotlyConfig = {MathJaxConfig: 'local'};\n",
              "        if (window.MathJax && window.MathJax.Hub && window.MathJax.Hub.Config) {window.MathJax.Hub.Config({SVG: {font: \"STIX-Web\"}});}\n",
              "        if (typeof require !== 'undefined') {\n",
              "        require.undef(\"plotly\");\n",
              "        requirejs.config({\n",
              "            paths: {\n",
              "                'plotly': ['https://cdn.plot.ly/plotly-2.35.2.min']\n",
              "            }\n",
              "        });\n",
              "        require(['plotly'], function(Plotly) {\n",
              "            window._Plotly = Plotly;\n",
              "        });\n",
              "        }\n",
              "        </script>\n",
              "        "
            ]
          },
          "metadata": {}
        }
      ]
    },
    {
      "cell_type": "code",
      "source": [
        "def completitud_datos_nulos(df): ...\n",
        "def complete_continuous_variables(df, col, strategy='median'): ...\n"
      ],
      "metadata": {
        "id": "YMPkzbgymdcK"
      },
      "execution_count": 123,
      "outputs": []
    },
    {
      "cell_type": "code",
      "source": [
        "complete_continuous_variables(df, [\"body\"])\n"
      ],
      "metadata": {
        "id": "WSYhemCZ0No1"
      },
      "execution_count": 126,
      "outputs": []
    },
    {
      "cell_type": "code",
      "source": [
        "varc = list(df.describe())\n",
        "varc = [x for x in varc if x not in 'survived']\n",
        "vard = [x for x in df.columns if x not in varc+['survived']]\n",
        "tgt = 'survived'\n",
        "\n"
      ],
      "metadata": {
        "id": "HJzyBSlfmUiC"
      },
      "execution_count": 127,
      "outputs": []
    },
    {
      "cell_type": "code",
      "source": [
        "from sklearn.preprocessing import MinMaxScaler\n",
        "from sklearn.model_selection import train_test_split\n",
        "\n",
        "X = df[varc].copy()\n",
        "y = df[tgt].astype(int)\n",
        "sc = MinMaxScaler()\n",
        "Xs = pd.DataFrame(sc.fit_transform(X), columns=varc)\n",
        "Xt, Xv, yt, yv = train_test_split(Xs, y, train_size=0.7)\n"
      ],
      "metadata": {
        "id": "Qx4xdddR0fC0"
      },
      "execution_count": 128,
      "outputs": []
    },
    {
      "cell_type": "code",
      "source": [
        "from sklearn.metrics import roc_auc_score\n",
        "from sklearn.model_selection import RandomizedSearchCV\n",
        "\n",
        "def entrenar(param, modelo, X, y): ...\n",
        "def metricas(Xt, Xv, yt, yv, modelo): ...\n",
        "def evaluar_precision(Xv, yv, modelo): ...\n"
      ],
      "metadata": {
        "id": "2Xs9F7Y00jqO"
      },
      "execution_count": 129,
      "outputs": []
    },
    {
      "cell_type": "code",
      "source": [
        "\n",
        "df_categoricas = pd.get_dummies(df[['sex', 'pclass', 'embarked']], drop_first=True)\n",
        "\n",
        "\n",
        "Xs_full = pd.concat([Xt_imputed, df_categoricas], axis=1)\n",
        "\n",
        "\n",
        "Xs_full.isnull().sum()\n"
      ],
      "metadata": {
        "colab": {
          "base_uri": "https://localhost:8080/",
          "height": 398
        },
        "id": "nOW_HQ-EvaPP",
        "outputId": "9767b527-aaa7-4fb6-deea-709222d0c7d3"
      },
      "execution_count": 106,
      "outputs": [
        {
          "output_type": "execute_result",
          "data": {
            "text/plain": [
              "pclass        393\n",
              "age           393\n",
              "sibsp         393\n",
              "parch         393\n",
              "fare          393\n",
              "body          393\n",
              "pclass          0\n",
              "sex_male        0\n",
              "embarked_Q      0\n",
              "embarked_S      0\n",
              "dtype: int64"
            ],
            "text/html": [
              "<div>\n",
              "<style scoped>\n",
              "    .dataframe tbody tr th:only-of-type {\n",
              "        vertical-align: middle;\n",
              "    }\n",
              "\n",
              "    .dataframe tbody tr th {\n",
              "        vertical-align: top;\n",
              "    }\n",
              "\n",
              "    .dataframe thead th {\n",
              "        text-align: right;\n",
              "    }\n",
              "</style>\n",
              "<table border=\"1\" class=\"dataframe\">\n",
              "  <thead>\n",
              "    <tr style=\"text-align: right;\">\n",
              "      <th></th>\n",
              "      <th>0</th>\n",
              "    </tr>\n",
              "  </thead>\n",
              "  <tbody>\n",
              "    <tr>\n",
              "      <th>pclass</th>\n",
              "      <td>393</td>\n",
              "    </tr>\n",
              "    <tr>\n",
              "      <th>age</th>\n",
              "      <td>393</td>\n",
              "    </tr>\n",
              "    <tr>\n",
              "      <th>sibsp</th>\n",
              "      <td>393</td>\n",
              "    </tr>\n",
              "    <tr>\n",
              "      <th>parch</th>\n",
              "      <td>393</td>\n",
              "    </tr>\n",
              "    <tr>\n",
              "      <th>fare</th>\n",
              "      <td>393</td>\n",
              "    </tr>\n",
              "    <tr>\n",
              "      <th>body</th>\n",
              "      <td>393</td>\n",
              "    </tr>\n",
              "    <tr>\n",
              "      <th>pclass</th>\n",
              "      <td>0</td>\n",
              "    </tr>\n",
              "    <tr>\n",
              "      <th>sex_male</th>\n",
              "      <td>0</td>\n",
              "    </tr>\n",
              "    <tr>\n",
              "      <th>embarked_Q</th>\n",
              "      <td>0</td>\n",
              "    </tr>\n",
              "    <tr>\n",
              "      <th>embarked_S</th>\n",
              "      <td>0</td>\n",
              "    </tr>\n",
              "  </tbody>\n",
              "</table>\n",
              "</div><br><label><b>dtype:</b> int64</label>"
            ]
          },
          "metadata": {},
          "execution_count": 106
        }
      ]
    },
    {
      "cell_type": "code",
      "source": [
        "from sklearn.metrics import roc_auc_score\n",
        "from sklearn.model_selection import RandomizedSearchCV\n",
        "\n",
        "def entrenar(param, modelo, X, y): ...\n",
        "def metricas(Xt, Xv, yt, yv, modelo): ...\n",
        "def evaluar_precision(Xv, yv, modelo): ...\n"
      ],
      "metadata": {
        "id": "fyhX-40o0sX1"
      },
      "execution_count": 130,
      "outputs": []
    },
    {
      "cell_type": "code",
      "source": [
        "from sklearn.model_selection import RandomizedSearchCV\n",
        "\n",
        "def entrenar(param, modelo, X, y):\n",
        "    grid = RandomizedSearchCV(\n",
        "        param_distributions=param,\n",
        "        n_jobs=-1,\n",
        "        n_iter=10,\n",
        "        cv=4,\n",
        "        estimator=modelo,\n",
        "        error_score='raise'\n",
        "    )\n",
        "    grid.fit(X, y)\n",
        "    return grid, grid.best_estimator_, grid.best_score_, grid.best_params_\n"
      ],
      "metadata": {
        "id": "xmds-aXimj9Y"
      },
      "execution_count": 137,
      "outputs": []
    },
    {
      "cell_type": "code",
      "source": [
        "param_mlpc = dict(\n",
        "    hidden_layer_sizes=[(50,), (100,), (50, 50)],\n",
        "    activation=['relu', 'tanh'],\n",
        "    solver=['adam'],\n",
        "    alpha=[0.0001, 0.001],\n",
        "    learning_rate=['adaptive']\n",
        ")\n"
      ],
      "metadata": {
        "id": "KReWiIfammDS"
      },
      "execution_count": 141,
      "outputs": []
    },
    {
      "cell_type": "code",
      "source": [
        "import pickle\n",
        "with open('./redneural.pkl', 'wb') as file:\n",
        "    pickle.dump(modelo_mlpc, file)\n"
      ],
      "metadata": {
        "id": "WW0aLY6km5Hb"
      },
      "execution_count": 61,
      "outputs": []
    },
    {
      "cell_type": "code",
      "source": [
        "from sklearn.metrics import accuracy_score\n",
        "\n",
        "def evaluar_precision(Xv, yv, modelo):\n",
        "    y_pred = modelo.predict(Xv)\n",
        "    accuracy = accuracy_score(yv, y_pred)\n",
        "    print(f\"Precisión (accuracy) en validación: {accuracy:.2%}\")\n",
        "    return accuracy\n"
      ],
      "metadata": {
        "id": "ZkARI93CnHKA"
      },
      "execution_count": 62,
      "outputs": []
    },
    {
      "cell_type": "code",
      "source": [
        "from sklearn.metrics import roc_auc_score\n",
        "\n",
        "def metricas(Xt, Xv, yt, yv, modelo):\n",
        "    d = {\n",
        "        'train': round(roc_auc_score(yt, modelo.predict_proba(Xt)[:, 1]), 3),\n",
        "        'validate': round(roc_auc_score(yv, modelo.predict_proba(Xv)[:, 1]), 3)\n",
        "    }\n",
        "    return d\n"
      ],
      "metadata": {
        "id": "W9c1iG79nI5k"
      },
      "execution_count": 69,
      "outputs": []
    },
    {
      "cell_type": "code",
      "source": [
        "from sklearn.metrics import accuracy_score\n",
        "\n",
        "def evaluar_precision(Xv, yv, modelo):\n",
        "    y_pred = modelo.predict(Xv)\n",
        "    accuracy = accuracy_score(yv, y_pred)\n",
        "    print(f\"Precisión (accuracy) en validación: {accuracy:.2%}\")\n",
        "    return accuracy\n"
      ],
      "metadata": {
        "id": "YaeW97JRofWN"
      },
      "execution_count": 71,
      "outputs": []
    },
    {
      "cell_type": "code",
      "source": [
        "Xt.isnull().sum().sort_values(ascending=False)\n"
      ],
      "metadata": {
        "colab": {
          "base_uri": "https://localhost:8080/",
          "height": 272
        },
        "id": "jmQ3YxbnpFMG",
        "outputId": "bc2915c7-84cd-417e-a588-11eac0c1fac9"
      },
      "execution_count": 73,
      "outputs": [
        {
          "output_type": "execute_result",
          "data": {
            "text/plain": [
              "body      825\n",
              "age       186\n",
              "pclass      0\n",
              "sibsp       0\n",
              "parch       0\n",
              "fare        0\n",
              "dtype: int64"
            ],
            "text/html": [
              "<div>\n",
              "<style scoped>\n",
              "    .dataframe tbody tr th:only-of-type {\n",
              "        vertical-align: middle;\n",
              "    }\n",
              "\n",
              "    .dataframe tbody tr th {\n",
              "        vertical-align: top;\n",
              "    }\n",
              "\n",
              "    .dataframe thead th {\n",
              "        text-align: right;\n",
              "    }\n",
              "</style>\n",
              "<table border=\"1\" class=\"dataframe\">\n",
              "  <thead>\n",
              "    <tr style=\"text-align: right;\">\n",
              "      <th></th>\n",
              "      <th>0</th>\n",
              "    </tr>\n",
              "  </thead>\n",
              "  <tbody>\n",
              "    <tr>\n",
              "      <th>body</th>\n",
              "      <td>825</td>\n",
              "    </tr>\n",
              "    <tr>\n",
              "      <th>age</th>\n",
              "      <td>186</td>\n",
              "    </tr>\n",
              "    <tr>\n",
              "      <th>pclass</th>\n",
              "      <td>0</td>\n",
              "    </tr>\n",
              "    <tr>\n",
              "      <th>sibsp</th>\n",
              "      <td>0</td>\n",
              "    </tr>\n",
              "    <tr>\n",
              "      <th>parch</th>\n",
              "      <td>0</td>\n",
              "    </tr>\n",
              "    <tr>\n",
              "      <th>fare</th>\n",
              "      <td>0</td>\n",
              "    </tr>\n",
              "  </tbody>\n",
              "</table>\n",
              "</div><br><label><b>dtype:</b> int64</label>"
            ]
          },
          "metadata": {},
          "execution_count": 73
        }
      ]
    },
    {
      "cell_type": "code",
      "source": [
        "from sklearn.impute import SimpleImputer\n",
        "\n",
        "imp = SimpleImputer(strategy=\"median\")  # o \"mean\"\n",
        "Xt_imputed = pd.DataFrame(imp.fit_transform(Xt), columns=Xt.columns)\n",
        "Xv_imputed = pd.DataFrame(imp.transform(Xv), columns=Xv.columns)\n"
      ],
      "metadata": {
        "id": "hg27E5bbpFBk"
      },
      "execution_count": 74,
      "outputs": []
    },
    {
      "cell_type": "code",
      "source": [
        "modelo_mlpc = MLPClassifier(max_iter=1000, random_state=42)\n",
        "modelo_mlpc, best_estimator_mlpc, score_mlpc, params_mlpc = entrenar(param_mlpc, modelo_mlpc, Xt_imputed, yt)\n",
        "evaluar_precision(Xv_imputed, yv, modelo_mlpc)\n",
        "\n"
      ],
      "metadata": {
        "id": "m8iboF-opJn8"
      },
      "execution_count": 144,
      "outputs": []
    },
    {
      "cell_type": "code",
      "source": [
        "modelo_rf = RandomForestClassifier()\n",
        "modelo_rf, best_estimator_rf, score_rf, params_rf = entrenar(param, modelo_rf, Xt_imputed, yt)\n",
        "evaluar_precision(Xv_imputed, yv, modelo_rf)\n"
      ],
      "metadata": {
        "colab": {
          "base_uri": "https://localhost:8080/"
        },
        "id": "Nq_1Zalgpo6i",
        "outputId": "36a85131-7f8e-4e81-c718-f46bbbb4abe5"
      },
      "execution_count": 77,
      "outputs": [
        {
          "output_type": "stream",
          "name": "stdout",
          "text": [
            "Precisión (accuracy) en validación: 59.80%\n"
          ]
        },
        {
          "output_type": "execute_result",
          "data": {
            "text/plain": [
              "0.5979643765903307"
            ]
          },
          "metadata": {},
          "execution_count": 77
        }
      ]
    },
    {
      "cell_type": "code",
      "source": [
        "param_svc = dict(\n",
        "    C=np.arange(0.1, 2, 0.1),\n",
        "    kernel=['linear', 'poly', 'rbf', 'sigmoid'],\n",
        "    degree=range(2, 5),\n",
        "    gamma=['scale', 'auto'],\n",
        "    probability=[True]\n",
        ")\n"
      ],
      "metadata": {
        "id": "gPCqMIc8p4Kn"
      },
      "execution_count": 80,
      "outputs": []
    },
    {
      "cell_type": "code",
      "source": [
        "modelo_svc = SVC(probability=True)\n",
        "modelo_svc, best_estimator_svc, score_svc, params_svc = entrenar(param_svc, modelo_svc, Xt_imputed, yt)\n",
        "evaluar_precision(Xv_imputed, yv, modelo_svc)\n"
      ],
      "metadata": {
        "colab": {
          "base_uri": "https://localhost:8080/"
        },
        "id": "bnKp-iFZpq4Y",
        "outputId": "1d8cb1b0-42e0-40ba-a395-80b476ec22d7"
      },
      "execution_count": 81,
      "outputs": [
        {
          "output_type": "stream",
          "name": "stdout",
          "text": [
            "Precisión (accuracy) en validación: 67.94%\n"
          ]
        },
        {
          "output_type": "execute_result",
          "data": {
            "text/plain": [
              "0.6793893129770993"
            ]
          },
          "metadata": {},
          "execution_count": 81
        }
      ]
    },
    {
      "cell_type": "code",
      "source": [
        "param_adab = dict(\n",
        "    n_estimators=range(50, 150, 25),\n",
        "    learning_rate=np.arange(0.1, 1.1, 0.1),\n",
        "    algorithm=['SAMME']  # Cambiar de 'SAMME.R' a 'SAMME'\n",
        ")\n",
        "\n"
      ],
      "metadata": {
        "id": "N2NZly2Zp7fv"
      },
      "execution_count": 90,
      "outputs": []
    },
    {
      "cell_type": "code",
      "source": [
        "modelo_adab = AdaBoostClassifier()\n",
        "modelo_adab, best_estimator_adab, score_adab, params_adab = entrenar(param_adab, modelo_adab, Xt_imputed, yt)\n",
        "evaluar_precision(Xv_imputed, yv, modelo_adab)\n"
      ],
      "metadata": {
        "colab": {
          "base_uri": "https://localhost:8080/"
        },
        "id": "Fw9X18fHprvC",
        "outputId": "1b580347-23d7-4693-94cc-06cf8a8f6977"
      },
      "execution_count": 91,
      "outputs": [
        {
          "output_type": "stream",
          "name": "stdout",
          "text": [
            "Precisión (accuracy) en validación: 70.99%\n"
          ]
        },
        {
          "output_type": "stream",
          "name": "stderr",
          "text": [
            "/usr/local/lib/python3.11/dist-packages/sklearn/ensemble/_weight_boosting.py:519: FutureWarning:\n",
            "\n",
            "The parameter 'algorithm' is deprecated in 1.6 and has no effect. It will be removed in version 1.8.\n",
            "\n"
          ]
        },
        {
          "output_type": "execute_result",
          "data": {
            "text/plain": [
              "0.7099236641221374"
            ]
          },
          "metadata": {},
          "execution_count": 91
        }
      ]
    }
  ]
}